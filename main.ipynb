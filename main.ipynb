{
 "metadata": {
  "language_info": {
   "codemirror_mode": {
    "name": "ipython",
    "version": 3
   },
   "file_extension": ".py",
   "mimetype": "text/x-python",
   "name": "python",
   "nbconvert_exporter": "python",
   "pygments_lexer": "ipython3",
   "version": "3.7.4"
  },
  "orig_nbformat": 2,
  "kernelspec": {
   "name": "python374jvsc74a57bd0b3ba2566441a7c06988d0923437866b63cedc61552a5af99d1f4fb67d367b25f",
   "display_name": "Python 3.7.4 64-bit ('base': conda)"
  }
 },
 "nbformat": 4,
 "nbformat_minor": 2,
 "cells": [
  {
   "cell_type": "code",
   "execution_count": 1,
   "metadata": {},
   "outputs": [],
   "source": [
    "import pandas as pd\n",
    "import numpy as np\n"
   ]
  },
  {
   "cell_type": "code",
   "execution_count": 11,
   "metadata": {},
   "outputs": [],
   "source": [
    "data = pd.read_csv(r'C:\\Users\\Administrator\\OneDrive\\Desktop\\Major\\data_major_project\\IPIP-FFM-data-8Nov2018\\data-final.csv', delimiter='\\t')"
   ]
  },
  {
   "cell_type": "code",
   "execution_count": 12,
   "metadata": {},
   "outputs": [
    {
     "output_type": "execute_result",
     "data": {
      "text/plain": [
       "         EXT1  EXT2  EXT3  EXT4  EXT5  EXT6  EXT7  EXT8  EXT9  EXT10  ...  \\\n",
       "0         4.0   1.0   5.0   2.0   5.0   1.0   5.0   2.0   4.0    1.0  ...   \n",
       "1         3.0   5.0   3.0   4.0   3.0   3.0   2.0   5.0   1.0    5.0  ...   \n",
       "2         2.0   3.0   4.0   4.0   3.0   2.0   1.0   3.0   2.0    5.0  ...   \n",
       "3         2.0   2.0   2.0   3.0   4.0   2.0   2.0   4.0   1.0    4.0  ...   \n",
       "4         3.0   3.0   3.0   3.0   5.0   3.0   3.0   5.0   3.0    4.0  ...   \n",
       "...       ...   ...   ...   ...   ...   ...   ...   ...   ...    ...  ...   \n",
       "1015336   4.0   2.0   4.0   3.0   4.0   3.0   3.0   3.0   3.0    3.0  ...   \n",
       "1015337   4.0   3.0   4.0   3.0   3.0   3.0   4.0   4.0   3.0    3.0  ...   \n",
       "1015338   4.0   2.0   4.0   3.0   5.0   1.0   4.0   2.0   4.0    4.0  ...   \n",
       "1015339   2.0   4.0   3.0   4.0   2.0   2.0   1.0   4.0   2.0    4.0  ...   \n",
       "1015340   4.0   2.0   4.0   2.0   4.0   1.0   4.0   2.0   4.0    4.0  ...   \n",
       "\n",
       "                    dateload  screenw  screenh  introelapse  testelapse  \\\n",
       "0        2016-03-03 02:01:01    768.0   1024.0          9.0       234.0   \n",
       "1        2016-03-03 02:01:20   1360.0    768.0         12.0       179.0   \n",
       "2        2016-03-03 02:01:56   1366.0    768.0          3.0       186.0   \n",
       "3        2016-03-03 02:02:02   1920.0   1200.0        186.0       219.0   \n",
       "4        2016-03-03 02:02:57   1366.0    768.0          8.0       315.0   \n",
       "...                      ...      ...      ...          ...         ...   \n",
       "1015336  2018-11-08 12:04:58   1920.0   1080.0          3.0       160.0   \n",
       "1015337  2018-11-08 12:07:18   1920.0   1080.0          3.0       122.0   \n",
       "1015338  2018-11-08 12:07:49   1920.0   1080.0          2.0       135.0   \n",
       "1015339  2018-11-08 12:08:34   1920.0   1080.0          6.0       212.0   \n",
       "1015340  2018-11-08 12:08:45   1920.0   1080.0          3.0       176.0   \n",
       "\n",
       "         endelapse  IPC  country  lat_appx_lots_of_err  long_appx_lots_of_err  \n",
       "0                6    1       GB               51.5448                 0.1991  \n",
       "1               11    1       MY                3.1698                101.706  \n",
       "2                7    1       GB               54.9119                -1.3833  \n",
       "3                7    1       GB                 51.75                  -1.25  \n",
       "4               17    2       KE                   1.0                   38.0  \n",
       "...            ...  ...      ...                   ...                    ...  \n",
       "1015336         10    2       US               39.9883               -75.2208  \n",
       "1015337          7    1       US                  38.0                  -97.0  \n",
       "1015338         12    6       US               36.1473                -86.777  \n",
       "1015339          8    1       US               34.1067              -117.8067  \n",
       "1015340          9    1       US                  38.0                  -97.0  \n",
       "\n",
       "[1015341 rows x 110 columns]"
      ],
      "text/html": "<div>\n<style scoped>\n    .dataframe tbody tr th:only-of-type {\n        vertical-align: middle;\n    }\n\n    .dataframe tbody tr th {\n        vertical-align: top;\n    }\n\n    .dataframe thead th {\n        text-align: right;\n    }\n</style>\n<table border=\"1\" class=\"dataframe\">\n  <thead>\n    <tr style=\"text-align: right;\">\n      <th></th>\n      <th>EXT1</th>\n      <th>EXT2</th>\n      <th>EXT3</th>\n      <th>EXT4</th>\n      <th>EXT5</th>\n      <th>EXT6</th>\n      <th>EXT7</th>\n      <th>EXT8</th>\n      <th>EXT9</th>\n      <th>EXT10</th>\n      <th>...</th>\n      <th>dateload</th>\n      <th>screenw</th>\n      <th>screenh</th>\n      <th>introelapse</th>\n      <th>testelapse</th>\n      <th>endelapse</th>\n      <th>IPC</th>\n      <th>country</th>\n      <th>lat_appx_lots_of_err</th>\n      <th>long_appx_lots_of_err</th>\n    </tr>\n  </thead>\n  <tbody>\n    <tr>\n      <th>0</th>\n      <td>4.0</td>\n      <td>1.0</td>\n      <td>5.0</td>\n      <td>2.0</td>\n      <td>5.0</td>\n      <td>1.0</td>\n      <td>5.0</td>\n      <td>2.0</td>\n      <td>4.0</td>\n      <td>1.0</td>\n      <td>...</td>\n      <td>2016-03-03 02:01:01</td>\n      <td>768.0</td>\n      <td>1024.0</td>\n      <td>9.0</td>\n      <td>234.0</td>\n      <td>6</td>\n      <td>1</td>\n      <td>GB</td>\n      <td>51.5448</td>\n      <td>0.1991</td>\n    </tr>\n    <tr>\n      <th>1</th>\n      <td>3.0</td>\n      <td>5.0</td>\n      <td>3.0</td>\n      <td>4.0</td>\n      <td>3.0</td>\n      <td>3.0</td>\n      <td>2.0</td>\n      <td>5.0</td>\n      <td>1.0</td>\n      <td>5.0</td>\n      <td>...</td>\n      <td>2016-03-03 02:01:20</td>\n      <td>1360.0</td>\n      <td>768.0</td>\n      <td>12.0</td>\n      <td>179.0</td>\n      <td>11</td>\n      <td>1</td>\n      <td>MY</td>\n      <td>3.1698</td>\n      <td>101.706</td>\n    </tr>\n    <tr>\n      <th>2</th>\n      <td>2.0</td>\n      <td>3.0</td>\n      <td>4.0</td>\n      <td>4.0</td>\n      <td>3.0</td>\n      <td>2.0</td>\n      <td>1.0</td>\n      <td>3.0</td>\n      <td>2.0</td>\n      <td>5.0</td>\n      <td>...</td>\n      <td>2016-03-03 02:01:56</td>\n      <td>1366.0</td>\n      <td>768.0</td>\n      <td>3.0</td>\n      <td>186.0</td>\n      <td>7</td>\n      <td>1</td>\n      <td>GB</td>\n      <td>54.9119</td>\n      <td>-1.3833</td>\n    </tr>\n    <tr>\n      <th>3</th>\n      <td>2.0</td>\n      <td>2.0</td>\n      <td>2.0</td>\n      <td>3.0</td>\n      <td>4.0</td>\n      <td>2.0</td>\n      <td>2.0</td>\n      <td>4.0</td>\n      <td>1.0</td>\n      <td>4.0</td>\n      <td>...</td>\n      <td>2016-03-03 02:02:02</td>\n      <td>1920.0</td>\n      <td>1200.0</td>\n      <td>186.0</td>\n      <td>219.0</td>\n      <td>7</td>\n      <td>1</td>\n      <td>GB</td>\n      <td>51.75</td>\n      <td>-1.25</td>\n    </tr>\n    <tr>\n      <th>4</th>\n      <td>3.0</td>\n      <td>3.0</td>\n      <td>3.0</td>\n      <td>3.0</td>\n      <td>5.0</td>\n      <td>3.0</td>\n      <td>3.0</td>\n      <td>5.0</td>\n      <td>3.0</td>\n      <td>4.0</td>\n      <td>...</td>\n      <td>2016-03-03 02:02:57</td>\n      <td>1366.0</td>\n      <td>768.0</td>\n      <td>8.0</td>\n      <td>315.0</td>\n      <td>17</td>\n      <td>2</td>\n      <td>KE</td>\n      <td>1.0</td>\n      <td>38.0</td>\n    </tr>\n    <tr>\n      <th>...</th>\n      <td>...</td>\n      <td>...</td>\n      <td>...</td>\n      <td>...</td>\n      <td>...</td>\n      <td>...</td>\n      <td>...</td>\n      <td>...</td>\n      <td>...</td>\n      <td>...</td>\n      <td>...</td>\n      <td>...</td>\n      <td>...</td>\n      <td>...</td>\n      <td>...</td>\n      <td>...</td>\n      <td>...</td>\n      <td>...</td>\n      <td>...</td>\n      <td>...</td>\n      <td>...</td>\n    </tr>\n    <tr>\n      <th>1015336</th>\n      <td>4.0</td>\n      <td>2.0</td>\n      <td>4.0</td>\n      <td>3.0</td>\n      <td>4.0</td>\n      <td>3.0</td>\n      <td>3.0</td>\n      <td>3.0</td>\n      <td>3.0</td>\n      <td>3.0</td>\n      <td>...</td>\n      <td>2018-11-08 12:04:58</td>\n      <td>1920.0</td>\n      <td>1080.0</td>\n      <td>3.0</td>\n      <td>160.0</td>\n      <td>10</td>\n      <td>2</td>\n      <td>US</td>\n      <td>39.9883</td>\n      <td>-75.2208</td>\n    </tr>\n    <tr>\n      <th>1015337</th>\n      <td>4.0</td>\n      <td>3.0</td>\n      <td>4.0</td>\n      <td>3.0</td>\n      <td>3.0</td>\n      <td>3.0</td>\n      <td>4.0</td>\n      <td>4.0</td>\n      <td>3.0</td>\n      <td>3.0</td>\n      <td>...</td>\n      <td>2018-11-08 12:07:18</td>\n      <td>1920.0</td>\n      <td>1080.0</td>\n      <td>3.0</td>\n      <td>122.0</td>\n      <td>7</td>\n      <td>1</td>\n      <td>US</td>\n      <td>38.0</td>\n      <td>-97.0</td>\n    </tr>\n    <tr>\n      <th>1015338</th>\n      <td>4.0</td>\n      <td>2.0</td>\n      <td>4.0</td>\n      <td>3.0</td>\n      <td>5.0</td>\n      <td>1.0</td>\n      <td>4.0</td>\n      <td>2.0</td>\n      <td>4.0</td>\n      <td>4.0</td>\n      <td>...</td>\n      <td>2018-11-08 12:07:49</td>\n      <td>1920.0</td>\n      <td>1080.0</td>\n      <td>2.0</td>\n      <td>135.0</td>\n      <td>12</td>\n      <td>6</td>\n      <td>US</td>\n      <td>36.1473</td>\n      <td>-86.777</td>\n    </tr>\n    <tr>\n      <th>1015339</th>\n      <td>2.0</td>\n      <td>4.0</td>\n      <td>3.0</td>\n      <td>4.0</td>\n      <td>2.0</td>\n      <td>2.0</td>\n      <td>1.0</td>\n      <td>4.0</td>\n      <td>2.0</td>\n      <td>4.0</td>\n      <td>...</td>\n      <td>2018-11-08 12:08:34</td>\n      <td>1920.0</td>\n      <td>1080.0</td>\n      <td>6.0</td>\n      <td>212.0</td>\n      <td>8</td>\n      <td>1</td>\n      <td>US</td>\n      <td>34.1067</td>\n      <td>-117.8067</td>\n    </tr>\n    <tr>\n      <th>1015340</th>\n      <td>4.0</td>\n      <td>2.0</td>\n      <td>4.0</td>\n      <td>2.0</td>\n      <td>4.0</td>\n      <td>1.0</td>\n      <td>4.0</td>\n      <td>2.0</td>\n      <td>4.0</td>\n      <td>4.0</td>\n      <td>...</td>\n      <td>2018-11-08 12:08:45</td>\n      <td>1920.0</td>\n      <td>1080.0</td>\n      <td>3.0</td>\n      <td>176.0</td>\n      <td>9</td>\n      <td>1</td>\n      <td>US</td>\n      <td>38.0</td>\n      <td>-97.0</td>\n    </tr>\n  </tbody>\n</table>\n<p>1015341 rows × 110 columns</p>\n</div>"
     },
     "metadata": {},
     "execution_count": 12
    }
   ],
   "source": [
    "data"
   ]
  },
  {
   "cell_type": "code",
   "execution_count": null,
   "metadata": {},
   "outputs": [],
   "source": [
    "data.describe()"
   ]
  },
  {
   "cell_type": "code",
   "execution_count": null,
   "metadata": {},
   "outputs": [],
   "source": []
  }
 ]
}