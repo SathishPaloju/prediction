{
 "cells": [
  {
   "cell_type": "code",
   "execution_count": 1,
   "metadata": {
    "_cell_guid": "b1076dfc-b9ad-4769-8c92-a6c4dae69d19",
    "_uuid": "8f2839f25d086af736a60e9eeb907d3b93b6e0e5",
    "execution": {
     "iopub.execute_input": "2021-02-17T14:01:11.984587Z",
     "iopub.status.busy": "2021-02-17T14:01:11.983878Z",
     "iopub.status.idle": "2021-02-17T14:01:13.638932Z",
     "shell.execute_reply": "2021-02-17T14:01:13.637968Z"
    },
    "papermill": {
     "duration": 1.682134,
     "end_time": "2021-02-17T14:01:13.639129",
     "exception": false,
     "start_time": "2021-02-17T14:01:11.956995",
     "status": "completed"
    },
    "tags": []
   },
   "outputs": [
    {
     "name": "stdout",
     "output_type": "stream",
     "text": [
      "/kaggle/input/big-five-personality-test/IPIP-FFM-data-8Nov2018/codebook.txt\n",
      "/kaggle/input/big-five-personality-test/IPIP-FFM-data-8Nov2018/data-final.csv\n",
      "/kaggle/input/big-five-personality-test/IPIP-FFM-data-8Nov2018/.directory\n"
     ]
    }
   ],
   "source": [
    "# This Python 3 environment comes with many helpful analytics libraries installed\n",
    "# It is defined by the kaggle/python Docker image: https://github.com/kaggle/docker-python\n",
    "# For example, here's several helpful packages to load\n",
    "\n",
    "import numpy as np # linear algebra\n",
    "import pandas as pd # data processing, CSV file I/O (e.g. pd.read_csv)\n",
    "import matplotlib.pyplot as plt # graph plotting\n",
    "from sklearn.cluster import MiniBatchKMeans # kmeans\n",
    "\n",
    "\n",
    "# Input data files are available in the read-only \"../input/\" directory\n",
    "# For example, running this (by clicking run or pressing Shift+Enter) will list all files under the input directory\n",
    "\n",
    "import os\n",
    "for dirname, _, filenames in os.walk('/kaggle/input'):\n",
    "    for filename in filenames:\n",
    "        print(os.path.join(dirname, filename))\n",
    "\n",
    "# You can write up to 20GB to the current directory (/kaggle/working/) that gets preserved as output when you create a version using \"Save & Run All\" \n",
    "# You can also write temporary files to /kaggle/temp/, but they won't be saved outside of the current session"
   ]
  },
  {
   "cell_type": "markdown",
   "metadata": {
    "papermill": {
     "duration": 0.02959,
     "end_time": "2021-02-17T14:01:13.699766",
     "exception": false,
     "start_time": "2021-02-17T14:01:13.670176",
     "status": "completed"
    },
    "tags": []
   },
   "source": [
    "Use pandas library to read data from .csv file and store it into a dataframe 'df'"
   ]
  },
  {
   "cell_type": "code",
   "execution_count": 2,
   "metadata": {
    "execution": {
     "iopub.execute_input": "2021-02-17T14:01:13.761853Z",
     "iopub.status.busy": "2021-02-17T14:01:13.761223Z",
     "iopub.status.idle": "2021-02-17T14:01:31.490119Z",
     "shell.execute_reply": "2021-02-17T14:01:31.489132Z"
    },
    "papermill": {
     "duration": 17.76033,
     "end_time": "2021-02-17T14:01:31.490295",
     "exception": false,
     "start_time": "2021-02-17T14:01:13.729965",
     "status": "completed"
    },
    "tags": []
   },
   "outputs": [
    {
     "data": {
      "text/html": [
       "<div>\n",
       "<style scoped>\n",
       "    .dataframe tbody tr th:only-of-type {\n",
       "        vertical-align: middle;\n",
       "    }\n",
       "\n",
       "    .dataframe tbody tr th {\n",
       "        vertical-align: top;\n",
       "    }\n",
       "\n",
       "    .dataframe thead th {\n",
       "        text-align: right;\n",
       "    }\n",
       "</style>\n",
       "<table border=\"1\" class=\"dataframe\">\n",
       "  <thead>\n",
       "    <tr style=\"text-align: right;\">\n",
       "      <th></th>\n",
       "      <th>EXT1</th>\n",
       "      <th>EXT2</th>\n",
       "      <th>EXT3</th>\n",
       "      <th>EXT4</th>\n",
       "      <th>EXT5</th>\n",
       "      <th>EXT6</th>\n",
       "      <th>EXT7</th>\n",
       "      <th>EXT8</th>\n",
       "      <th>EXT9</th>\n",
       "      <th>EXT10</th>\n",
       "      <th>...</th>\n",
       "      <th>dateload</th>\n",
       "      <th>screenw</th>\n",
       "      <th>screenh</th>\n",
       "      <th>introelapse</th>\n",
       "      <th>testelapse</th>\n",
       "      <th>endelapse</th>\n",
       "      <th>IPC</th>\n",
       "      <th>country</th>\n",
       "      <th>lat_appx_lots_of_err</th>\n",
       "      <th>long_appx_lots_of_err</th>\n",
       "    </tr>\n",
       "  </thead>\n",
       "  <tbody>\n",
       "    <tr>\n",
       "      <th>0</th>\n",
       "      <td>4.0</td>\n",
       "      <td>1.0</td>\n",
       "      <td>5.0</td>\n",
       "      <td>2.0</td>\n",
       "      <td>5.0</td>\n",
       "      <td>1.0</td>\n",
       "      <td>5.0</td>\n",
       "      <td>2.0</td>\n",
       "      <td>4.0</td>\n",
       "      <td>1.0</td>\n",
       "      <td>...</td>\n",
       "      <td>2016-03-03 02:01:01</td>\n",
       "      <td>768.0</td>\n",
       "      <td>1024.0</td>\n",
       "      <td>9.0</td>\n",
       "      <td>234.0</td>\n",
       "      <td>6</td>\n",
       "      <td>1</td>\n",
       "      <td>GB</td>\n",
       "      <td>51.5448</td>\n",
       "      <td>0.1991</td>\n",
       "    </tr>\n",
       "    <tr>\n",
       "      <th>1</th>\n",
       "      <td>3.0</td>\n",
       "      <td>5.0</td>\n",
       "      <td>3.0</td>\n",
       "      <td>4.0</td>\n",
       "      <td>3.0</td>\n",
       "      <td>3.0</td>\n",
       "      <td>2.0</td>\n",
       "      <td>5.0</td>\n",
       "      <td>1.0</td>\n",
       "      <td>5.0</td>\n",
       "      <td>...</td>\n",
       "      <td>2016-03-03 02:01:20</td>\n",
       "      <td>1360.0</td>\n",
       "      <td>768.0</td>\n",
       "      <td>12.0</td>\n",
       "      <td>179.0</td>\n",
       "      <td>11</td>\n",
       "      <td>1</td>\n",
       "      <td>MY</td>\n",
       "      <td>3.1698</td>\n",
       "      <td>101.706</td>\n",
       "    </tr>\n",
       "    <tr>\n",
       "      <th>2</th>\n",
       "      <td>2.0</td>\n",
       "      <td>3.0</td>\n",
       "      <td>4.0</td>\n",
       "      <td>4.0</td>\n",
       "      <td>3.0</td>\n",
       "      <td>2.0</td>\n",
       "      <td>1.0</td>\n",
       "      <td>3.0</td>\n",
       "      <td>2.0</td>\n",
       "      <td>5.0</td>\n",
       "      <td>...</td>\n",
       "      <td>2016-03-03 02:01:56</td>\n",
       "      <td>1366.0</td>\n",
       "      <td>768.0</td>\n",
       "      <td>3.0</td>\n",
       "      <td>186.0</td>\n",
       "      <td>7</td>\n",
       "      <td>1</td>\n",
       "      <td>GB</td>\n",
       "      <td>54.9119</td>\n",
       "      <td>-1.3833</td>\n",
       "    </tr>\n",
       "    <tr>\n",
       "      <th>3</th>\n",
       "      <td>2.0</td>\n",
       "      <td>2.0</td>\n",
       "      <td>2.0</td>\n",
       "      <td>3.0</td>\n",
       "      <td>4.0</td>\n",
       "      <td>2.0</td>\n",
       "      <td>2.0</td>\n",
       "      <td>4.0</td>\n",
       "      <td>1.0</td>\n",
       "      <td>4.0</td>\n",
       "      <td>...</td>\n",
       "      <td>2016-03-03 02:02:02</td>\n",
       "      <td>1920.0</td>\n",
       "      <td>1200.0</td>\n",
       "      <td>186.0</td>\n",
       "      <td>219.0</td>\n",
       "      <td>7</td>\n",
       "      <td>1</td>\n",
       "      <td>GB</td>\n",
       "      <td>51.75</td>\n",
       "      <td>-1.25</td>\n",
       "    </tr>\n",
       "    <tr>\n",
       "      <th>4</th>\n",
       "      <td>3.0</td>\n",
       "      <td>3.0</td>\n",
       "      <td>3.0</td>\n",
       "      <td>3.0</td>\n",
       "      <td>5.0</td>\n",
       "      <td>3.0</td>\n",
       "      <td>3.0</td>\n",
       "      <td>5.0</td>\n",
       "      <td>3.0</td>\n",
       "      <td>4.0</td>\n",
       "      <td>...</td>\n",
       "      <td>2016-03-03 02:02:57</td>\n",
       "      <td>1366.0</td>\n",
       "      <td>768.0</td>\n",
       "      <td>8.0</td>\n",
       "      <td>315.0</td>\n",
       "      <td>17</td>\n",
       "      <td>2</td>\n",
       "      <td>KE</td>\n",
       "      <td>1.0</td>\n",
       "      <td>38.0</td>\n",
       "    </tr>\n",
       "    <tr>\n",
       "      <th>...</th>\n",
       "      <td>...</td>\n",
       "      <td>...</td>\n",
       "      <td>...</td>\n",
       "      <td>...</td>\n",
       "      <td>...</td>\n",
       "      <td>...</td>\n",
       "      <td>...</td>\n",
       "      <td>...</td>\n",
       "      <td>...</td>\n",
       "      <td>...</td>\n",
       "      <td>...</td>\n",
       "      <td>...</td>\n",
       "      <td>...</td>\n",
       "      <td>...</td>\n",
       "      <td>...</td>\n",
       "      <td>...</td>\n",
       "      <td>...</td>\n",
       "      <td>...</td>\n",
       "      <td>...</td>\n",
       "      <td>...</td>\n",
       "      <td>...</td>\n",
       "    </tr>\n",
       "    <tr>\n",
       "      <th>1015336</th>\n",
       "      <td>4.0</td>\n",
       "      <td>2.0</td>\n",
       "      <td>4.0</td>\n",
       "      <td>3.0</td>\n",
       "      <td>4.0</td>\n",
       "      <td>3.0</td>\n",
       "      <td>3.0</td>\n",
       "      <td>3.0</td>\n",
       "      <td>3.0</td>\n",
       "      <td>3.0</td>\n",
       "      <td>...</td>\n",
       "      <td>2018-11-08 12:04:58</td>\n",
       "      <td>1920.0</td>\n",
       "      <td>1080.0</td>\n",
       "      <td>3.0</td>\n",
       "      <td>160.0</td>\n",
       "      <td>10</td>\n",
       "      <td>2</td>\n",
       "      <td>US</td>\n",
       "      <td>39.9883</td>\n",
       "      <td>-75.2208</td>\n",
       "    </tr>\n",
       "    <tr>\n",
       "      <th>1015337</th>\n",
       "      <td>4.0</td>\n",
       "      <td>3.0</td>\n",
       "      <td>4.0</td>\n",
       "      <td>3.0</td>\n",
       "      <td>3.0</td>\n",
       "      <td>3.0</td>\n",
       "      <td>4.0</td>\n",
       "      <td>4.0</td>\n",
       "      <td>3.0</td>\n",
       "      <td>3.0</td>\n",
       "      <td>...</td>\n",
       "      <td>2018-11-08 12:07:18</td>\n",
       "      <td>1920.0</td>\n",
       "      <td>1080.0</td>\n",
       "      <td>3.0</td>\n",
       "      <td>122.0</td>\n",
       "      <td>7</td>\n",
       "      <td>1</td>\n",
       "      <td>US</td>\n",
       "      <td>38.0</td>\n",
       "      <td>-97.0</td>\n",
       "    </tr>\n",
       "    <tr>\n",
       "      <th>1015338</th>\n",
       "      <td>4.0</td>\n",
       "      <td>2.0</td>\n",
       "      <td>4.0</td>\n",
       "      <td>3.0</td>\n",
       "      <td>5.0</td>\n",
       "      <td>1.0</td>\n",
       "      <td>4.0</td>\n",
       "      <td>2.0</td>\n",
       "      <td>4.0</td>\n",
       "      <td>4.0</td>\n",
       "      <td>...</td>\n",
       "      <td>2018-11-08 12:07:49</td>\n",
       "      <td>1920.0</td>\n",
       "      <td>1080.0</td>\n",
       "      <td>2.0</td>\n",
       "      <td>135.0</td>\n",
       "      <td>12</td>\n",
       "      <td>6</td>\n",
       "      <td>US</td>\n",
       "      <td>36.1473</td>\n",
       "      <td>-86.777</td>\n",
       "    </tr>\n",
       "    <tr>\n",
       "      <th>1015339</th>\n",
       "      <td>2.0</td>\n",
       "      <td>4.0</td>\n",
       "      <td>3.0</td>\n",
       "      <td>4.0</td>\n",
       "      <td>2.0</td>\n",
       "      <td>2.0</td>\n",
       "      <td>1.0</td>\n",
       "      <td>4.0</td>\n",
       "      <td>2.0</td>\n",
       "      <td>4.0</td>\n",
       "      <td>...</td>\n",
       "      <td>2018-11-08 12:08:34</td>\n",
       "      <td>1920.0</td>\n",
       "      <td>1080.0</td>\n",
       "      <td>6.0</td>\n",
       "      <td>212.0</td>\n",
       "      <td>8</td>\n",
       "      <td>1</td>\n",
       "      <td>US</td>\n",
       "      <td>34.1067</td>\n",
       "      <td>-117.8067</td>\n",
       "    </tr>\n",
       "    <tr>\n",
       "      <th>1015340</th>\n",
       "      <td>4.0</td>\n",
       "      <td>2.0</td>\n",
       "      <td>4.0</td>\n",
       "      <td>2.0</td>\n",
       "      <td>4.0</td>\n",
       "      <td>1.0</td>\n",
       "      <td>4.0</td>\n",
       "      <td>2.0</td>\n",
       "      <td>4.0</td>\n",
       "      <td>4.0</td>\n",
       "      <td>...</td>\n",
       "      <td>2018-11-08 12:08:45</td>\n",
       "      <td>1920.0</td>\n",
       "      <td>1080.0</td>\n",
       "      <td>3.0</td>\n",
       "      <td>176.0</td>\n",
       "      <td>9</td>\n",
       "      <td>1</td>\n",
       "      <td>US</td>\n",
       "      <td>38.0</td>\n",
       "      <td>-97.0</td>\n",
       "    </tr>\n",
       "  </tbody>\n",
       "</table>\n",
       "<p>1015341 rows × 110 columns</p>\n",
       "</div>"
      ],
      "text/plain": [
       "         EXT1  EXT2  EXT3  EXT4  EXT5  EXT6  EXT7  EXT8  EXT9  EXT10  ...  \\\n",
       "0         4.0   1.0   5.0   2.0   5.0   1.0   5.0   2.0   4.0    1.0  ...   \n",
       "1         3.0   5.0   3.0   4.0   3.0   3.0   2.0   5.0   1.0    5.0  ...   \n",
       "2         2.0   3.0   4.0   4.0   3.0   2.0   1.0   3.0   2.0    5.0  ...   \n",
       "3         2.0   2.0   2.0   3.0   4.0   2.0   2.0   4.0   1.0    4.0  ...   \n",
       "4         3.0   3.0   3.0   3.0   5.0   3.0   3.0   5.0   3.0    4.0  ...   \n",
       "...       ...   ...   ...   ...   ...   ...   ...   ...   ...    ...  ...   \n",
       "1015336   4.0   2.0   4.0   3.0   4.0   3.0   3.0   3.0   3.0    3.0  ...   \n",
       "1015337   4.0   3.0   4.0   3.0   3.0   3.0   4.0   4.0   3.0    3.0  ...   \n",
       "1015338   4.0   2.0   4.0   3.0   5.0   1.0   4.0   2.0   4.0    4.0  ...   \n",
       "1015339   2.0   4.0   3.0   4.0   2.0   2.0   1.0   4.0   2.0    4.0  ...   \n",
       "1015340   4.0   2.0   4.0   2.0   4.0   1.0   4.0   2.0   4.0    4.0  ...   \n",
       "\n",
       "                    dateload  screenw  screenh  introelapse  testelapse  \\\n",
       "0        2016-03-03 02:01:01    768.0   1024.0          9.0       234.0   \n",
       "1        2016-03-03 02:01:20   1360.0    768.0         12.0       179.0   \n",
       "2        2016-03-03 02:01:56   1366.0    768.0          3.0       186.0   \n",
       "3        2016-03-03 02:02:02   1920.0   1200.0        186.0       219.0   \n",
       "4        2016-03-03 02:02:57   1366.0    768.0          8.0       315.0   \n",
       "...                      ...      ...      ...          ...         ...   \n",
       "1015336  2018-11-08 12:04:58   1920.0   1080.0          3.0       160.0   \n",
       "1015337  2018-11-08 12:07:18   1920.0   1080.0          3.0       122.0   \n",
       "1015338  2018-11-08 12:07:49   1920.0   1080.0          2.0       135.0   \n",
       "1015339  2018-11-08 12:08:34   1920.0   1080.0          6.0       212.0   \n",
       "1015340  2018-11-08 12:08:45   1920.0   1080.0          3.0       176.0   \n",
       "\n",
       "         endelapse  IPC  country  lat_appx_lots_of_err  long_appx_lots_of_err  \n",
       "0                6    1       GB               51.5448                 0.1991  \n",
       "1               11    1       MY                3.1698                101.706  \n",
       "2                7    1       GB               54.9119                -1.3833  \n",
       "3                7    1       GB                 51.75                  -1.25  \n",
       "4               17    2       KE                   1.0                   38.0  \n",
       "...            ...  ...      ...                   ...                    ...  \n",
       "1015336         10    2       US               39.9883               -75.2208  \n",
       "1015337          7    1       US                  38.0                  -97.0  \n",
       "1015338         12    6       US               36.1473                -86.777  \n",
       "1015339          8    1       US               34.1067              -117.8067  \n",
       "1015340          9    1       US                  38.0                  -97.0  \n",
       "\n",
       "[1015341 rows x 110 columns]"
      ]
     },
     "execution_count": 2,
     "metadata": {},
     "output_type": "execute_result"
    }
   ],
   "source": [
    "df= pd.read_csv('/kaggle/input/big-five-personality-test/IPIP-FFM-data-8Nov2018/data-final.csv', delimiter='\\t')\n",
    "\n",
    "df"
   ]
  },
  {
   "cell_type": "code",
   "execution_count": 3,
   "metadata": {
    "execution": {
     "iopub.execute_input": "2021-02-17T14:01:31.568625Z",
     "iopub.status.busy": "2021-02-17T14:01:31.567513Z",
     "iopub.status.idle": "2021-02-17T14:01:31.586784Z",
     "shell.execute_reply": "2021-02-17T14:01:31.585981Z"
    },
    "papermill": {
     "duration": 0.06075,
     "end_time": "2021-02-17T14:01:31.586970",
     "exception": false,
     "start_time": "2021-02-17T14:01:31.526220",
     "status": "completed"
    },
    "tags": []
   },
   "outputs": [
    {
     "name": "stdout",
     "output_type": "stream",
     "text": [
      "EXT1\n",
      "EXT2\n",
      "EXT3\n",
      "EXT4\n",
      "EXT5\n",
      "EXT6\n",
      "EXT7\n",
      "EXT8\n",
      "EXT9\n",
      "EXT10\n",
      "EST1\n",
      "EST2\n",
      "EST3\n",
      "EST4\n",
      "EST5\n",
      "EST6\n",
      "EST7\n",
      "EST8\n",
      "EST9\n",
      "EST10\n",
      "AGR1\n",
      "AGR2\n",
      "AGR3\n",
      "AGR4\n",
      "AGR5\n",
      "AGR6\n",
      "AGR7\n",
      "AGR8\n",
      "AGR9\n",
      "AGR10\n",
      "CSN1\n",
      "CSN2\n",
      "CSN3\n",
      "CSN4\n",
      "CSN5\n",
      "CSN6\n",
      "CSN7\n",
      "CSN8\n",
      "CSN9\n",
      "CSN10\n",
      "OPN1\n",
      "OPN2\n",
      "OPN3\n",
      "OPN4\n",
      "OPN5\n",
      "OPN6\n",
      "OPN7\n",
      "OPN8\n",
      "OPN9\n",
      "OPN10\n",
      "EXT1_E\n",
      "EXT2_E\n",
      "EXT3_E\n",
      "EXT4_E\n",
      "EXT5_E\n",
      "EXT6_E\n",
      "EXT7_E\n",
      "EXT8_E\n",
      "EXT9_E\n",
      "EXT10_E\n",
      "EST1_E\n",
      "EST2_E\n",
      "EST3_E\n",
      "EST4_E\n",
      "EST5_E\n",
      "EST6_E\n",
      "EST7_E\n",
      "EST8_E\n",
      "EST9_E\n",
      "EST10_E\n",
      "AGR1_E\n",
      "AGR2_E\n",
      "AGR3_E\n",
      "AGR4_E\n",
      "AGR5_E\n",
      "AGR6_E\n",
      "AGR7_E\n",
      "AGR8_E\n",
      "AGR9_E\n",
      "AGR10_E\n",
      "CSN1_E\n",
      "CSN2_E\n",
      "CSN3_E\n",
      "CSN4_E\n",
      "CSN5_E\n",
      "CSN6_E\n",
      "CSN7_E\n",
      "CSN8_E\n",
      "CSN9_E\n",
      "CSN10_E\n",
      "OPN1_E\n",
      "OPN2_E\n",
      "OPN3_E\n",
      "OPN4_E\n",
      "OPN5_E\n",
      "OPN6_E\n",
      "OPN7_E\n",
      "OPN8_E\n",
      "OPN9_E\n",
      "OPN10_E\n",
      "dateload\n",
      "screenw\n",
      "screenh\n",
      "introelapse\n",
      "testelapse\n",
      "endelapse\n",
      "IPC\n",
      "country\n",
      "lat_appx_lots_of_err\n",
      "long_appx_lots_of_err\n"
     ]
    }
   ],
   "source": [
    "columns= df.columns\n",
    "\n",
    "# display all the columns in the dataset\n",
    "for c in columns:\n",
    "    print(c)"
   ]
  },
  {
   "cell_type": "markdown",
   "metadata": {
    "papermill": {
     "duration": 0.025088,
     "end_time": "2021-02-17T14:01:31.640636",
     "exception": false,
     "start_time": "2021-02-17T14:01:31.615548",
     "status": "completed"
    },
    "tags": []
   },
   "source": [
    "Here, columns 1 to 50 represents the test questions.\n",
    "* Questions 1 to 10 trying to find out whether the person is extrovert or not.\n",
    "* Questions 11 to 20 trying to find out whether the person is neurotic or not.\n",
    "* Questions 21 to 30 trying to find out whether the person is agreeable or not.\n",
    "* Questions 31 to 40 trying to find out whether the person is conscientious or not.\n",
    "* Questions 41 to 50 trying to find out whether the person is open to new experience or not.\n",
    "\n",
    "Remaining 10 columns contain metadata such as width and height of user's screen when they were taking these tests."
   ]
  },
  {
   "cell_type": "code",
   "execution_count": 4,
   "metadata": {
    "execution": {
     "iopub.execute_input": "2021-02-17T14:01:31.758643Z",
     "iopub.status.busy": "2021-02-17T14:01:31.757734Z",
     "iopub.status.idle": "2021-02-17T14:01:31.763125Z",
     "shell.execute_reply": "2021-02-17T14:01:31.762473Z"
    },
    "papermill": {
     "duration": 0.098103,
     "end_time": "2021-02-17T14:01:31.763268",
     "exception": false,
     "start_time": "2021-02-17T14:01:31.665165",
     "status": "completed"
    },
    "tags": []
   },
   "outputs": [],
   "source": [
    "# save first 50 columns in variable X\n",
    "\n",
    "X= df[df.columns[0:50]]"
   ]
  },
  {
   "cell_type": "code",
   "execution_count": 5,
   "metadata": {
    "execution": {
     "iopub.execute_input": "2021-02-17T14:01:31.819687Z",
     "iopub.status.busy": "2021-02-17T14:01:31.818603Z",
     "iopub.status.idle": "2021-02-17T14:01:31.824177Z",
     "shell.execute_reply": "2021-02-17T14:01:31.823391Z"
    },
    "papermill": {
     "duration": 0.036278,
     "end_time": "2021-02-17T14:01:31.824355",
     "exception": false,
     "start_time": "2021-02-17T14:01:31.788077",
     "status": "completed"
    },
    "tags": []
   },
   "outputs": [],
   "source": [
    "# to see entire dataframe\n",
    "\n",
    "pd.set_option(\"display.max_columns\", None)"
   ]
  },
  {
   "cell_type": "code",
   "execution_count": 6,
   "metadata": {
    "execution": {
     "iopub.execute_input": "2021-02-17T14:01:31.924520Z",
     "iopub.status.busy": "2021-02-17T14:01:31.919244Z",
     "iopub.status.idle": "2021-02-17T14:01:32.042765Z",
     "shell.execute_reply": "2021-02-17T14:01:32.043596Z"
    },
    "papermill": {
     "duration": 0.182026,
     "end_time": "2021-02-17T14:01:32.043820",
     "exception": false,
     "start_time": "2021-02-17T14:01:31.861794",
     "status": "completed"
    },
    "tags": []
   },
   "outputs": [
    {
     "data": {
      "text/html": [
       "<div>\n",
       "<style scoped>\n",
       "    .dataframe tbody tr th:only-of-type {\n",
       "        vertical-align: middle;\n",
       "    }\n",
       "\n",
       "    .dataframe tbody tr th {\n",
       "        vertical-align: top;\n",
       "    }\n",
       "\n",
       "    .dataframe thead th {\n",
       "        text-align: right;\n",
       "    }\n",
       "</style>\n",
       "<table border=\"1\" class=\"dataframe\">\n",
       "  <thead>\n",
       "    <tr style=\"text-align: right;\">\n",
       "      <th></th>\n",
       "      <th>EXT1</th>\n",
       "      <th>EXT2</th>\n",
       "      <th>EXT3</th>\n",
       "      <th>EXT4</th>\n",
       "      <th>EXT5</th>\n",
       "      <th>EXT6</th>\n",
       "      <th>EXT7</th>\n",
       "      <th>EXT8</th>\n",
       "      <th>EXT9</th>\n",
       "      <th>EXT10</th>\n",
       "      <th>EST1</th>\n",
       "      <th>EST2</th>\n",
       "      <th>EST3</th>\n",
       "      <th>EST4</th>\n",
       "      <th>EST5</th>\n",
       "      <th>EST6</th>\n",
       "      <th>EST7</th>\n",
       "      <th>EST8</th>\n",
       "      <th>EST9</th>\n",
       "      <th>EST10</th>\n",
       "      <th>AGR1</th>\n",
       "      <th>AGR2</th>\n",
       "      <th>AGR3</th>\n",
       "      <th>AGR4</th>\n",
       "      <th>AGR5</th>\n",
       "      <th>AGR6</th>\n",
       "      <th>AGR7</th>\n",
       "      <th>AGR8</th>\n",
       "      <th>AGR9</th>\n",
       "      <th>AGR10</th>\n",
       "      <th>CSN1</th>\n",
       "      <th>CSN2</th>\n",
       "      <th>CSN3</th>\n",
       "      <th>CSN4</th>\n",
       "      <th>CSN5</th>\n",
       "      <th>CSN6</th>\n",
       "      <th>CSN7</th>\n",
       "      <th>CSN8</th>\n",
       "      <th>CSN9</th>\n",
       "      <th>CSN10</th>\n",
       "      <th>OPN1</th>\n",
       "      <th>OPN2</th>\n",
       "      <th>OPN3</th>\n",
       "      <th>OPN4</th>\n",
       "      <th>OPN5</th>\n",
       "      <th>OPN6</th>\n",
       "      <th>OPN7</th>\n",
       "      <th>OPN8</th>\n",
       "      <th>OPN9</th>\n",
       "      <th>OPN10</th>\n",
       "    </tr>\n",
       "  </thead>\n",
       "  <tbody>\n",
       "    <tr>\n",
       "      <th>0</th>\n",
       "      <td>4.0</td>\n",
       "      <td>1.0</td>\n",
       "      <td>5.0</td>\n",
       "      <td>2.0</td>\n",
       "      <td>5.0</td>\n",
       "      <td>1.0</td>\n",
       "      <td>5.0</td>\n",
       "      <td>2.0</td>\n",
       "      <td>4.0</td>\n",
       "      <td>1.0</td>\n",
       "      <td>1.0</td>\n",
       "      <td>4.0</td>\n",
       "      <td>4.0</td>\n",
       "      <td>2.0</td>\n",
       "      <td>2.0</td>\n",
       "      <td>2.0</td>\n",
       "      <td>2.0</td>\n",
       "      <td>2.0</td>\n",
       "      <td>3.0</td>\n",
       "      <td>2.0</td>\n",
       "      <td>2.0</td>\n",
       "      <td>5.0</td>\n",
       "      <td>2.0</td>\n",
       "      <td>4.0</td>\n",
       "      <td>2.0</td>\n",
       "      <td>3.0</td>\n",
       "      <td>2.0</td>\n",
       "      <td>4.0</td>\n",
       "      <td>3.0</td>\n",
       "      <td>4.0</td>\n",
       "      <td>3.0</td>\n",
       "      <td>4.0</td>\n",
       "      <td>3.0</td>\n",
       "      <td>2.0</td>\n",
       "      <td>2.0</td>\n",
       "      <td>4.0</td>\n",
       "      <td>4.0</td>\n",
       "      <td>2.0</td>\n",
       "      <td>4.0</td>\n",
       "      <td>4.0</td>\n",
       "      <td>5.0</td>\n",
       "      <td>1.0</td>\n",
       "      <td>4.0</td>\n",
       "      <td>1.0</td>\n",
       "      <td>4.0</td>\n",
       "      <td>1.0</td>\n",
       "      <td>5.0</td>\n",
       "      <td>3.0</td>\n",
       "      <td>4.0</td>\n",
       "      <td>5.0</td>\n",
       "    </tr>\n",
       "    <tr>\n",
       "      <th>1</th>\n",
       "      <td>3.0</td>\n",
       "      <td>5.0</td>\n",
       "      <td>3.0</td>\n",
       "      <td>4.0</td>\n",
       "      <td>3.0</td>\n",
       "      <td>3.0</td>\n",
       "      <td>2.0</td>\n",
       "      <td>5.0</td>\n",
       "      <td>1.0</td>\n",
       "      <td>5.0</td>\n",
       "      <td>2.0</td>\n",
       "      <td>3.0</td>\n",
       "      <td>4.0</td>\n",
       "      <td>1.0</td>\n",
       "      <td>3.0</td>\n",
       "      <td>1.0</td>\n",
       "      <td>2.0</td>\n",
       "      <td>1.0</td>\n",
       "      <td>3.0</td>\n",
       "      <td>1.0</td>\n",
       "      <td>1.0</td>\n",
       "      <td>4.0</td>\n",
       "      <td>1.0</td>\n",
       "      <td>5.0</td>\n",
       "      <td>1.0</td>\n",
       "      <td>5.0</td>\n",
       "      <td>3.0</td>\n",
       "      <td>4.0</td>\n",
       "      <td>5.0</td>\n",
       "      <td>3.0</td>\n",
       "      <td>3.0</td>\n",
       "      <td>2.0</td>\n",
       "      <td>5.0</td>\n",
       "      <td>3.0</td>\n",
       "      <td>3.0</td>\n",
       "      <td>1.0</td>\n",
       "      <td>3.0</td>\n",
       "      <td>3.0</td>\n",
       "      <td>5.0</td>\n",
       "      <td>3.0</td>\n",
       "      <td>1.0</td>\n",
       "      <td>2.0</td>\n",
       "      <td>4.0</td>\n",
       "      <td>2.0</td>\n",
       "      <td>3.0</td>\n",
       "      <td>1.0</td>\n",
       "      <td>4.0</td>\n",
       "      <td>2.0</td>\n",
       "      <td>5.0</td>\n",
       "      <td>3.0</td>\n",
       "    </tr>\n",
       "    <tr>\n",
       "      <th>2</th>\n",
       "      <td>2.0</td>\n",
       "      <td>3.0</td>\n",
       "      <td>4.0</td>\n",
       "      <td>4.0</td>\n",
       "      <td>3.0</td>\n",
       "      <td>2.0</td>\n",
       "      <td>1.0</td>\n",
       "      <td>3.0</td>\n",
       "      <td>2.0</td>\n",
       "      <td>5.0</td>\n",
       "      <td>4.0</td>\n",
       "      <td>4.0</td>\n",
       "      <td>4.0</td>\n",
       "      <td>2.0</td>\n",
       "      <td>2.0</td>\n",
       "      <td>2.0</td>\n",
       "      <td>2.0</td>\n",
       "      <td>2.0</td>\n",
       "      <td>1.0</td>\n",
       "      <td>3.0</td>\n",
       "      <td>1.0</td>\n",
       "      <td>4.0</td>\n",
       "      <td>1.0</td>\n",
       "      <td>4.0</td>\n",
       "      <td>2.0</td>\n",
       "      <td>4.0</td>\n",
       "      <td>1.0</td>\n",
       "      <td>4.0</td>\n",
       "      <td>4.0</td>\n",
       "      <td>3.0</td>\n",
       "      <td>4.0</td>\n",
       "      <td>2.0</td>\n",
       "      <td>2.0</td>\n",
       "      <td>2.0</td>\n",
       "      <td>3.0</td>\n",
       "      <td>3.0</td>\n",
       "      <td>4.0</td>\n",
       "      <td>2.0</td>\n",
       "      <td>4.0</td>\n",
       "      <td>2.0</td>\n",
       "      <td>5.0</td>\n",
       "      <td>1.0</td>\n",
       "      <td>2.0</td>\n",
       "      <td>1.0</td>\n",
       "      <td>4.0</td>\n",
       "      <td>2.0</td>\n",
       "      <td>5.0</td>\n",
       "      <td>3.0</td>\n",
       "      <td>4.0</td>\n",
       "      <td>4.0</td>\n",
       "    </tr>\n",
       "    <tr>\n",
       "      <th>3</th>\n",
       "      <td>2.0</td>\n",
       "      <td>2.0</td>\n",
       "      <td>2.0</td>\n",
       "      <td>3.0</td>\n",
       "      <td>4.0</td>\n",
       "      <td>2.0</td>\n",
       "      <td>2.0</td>\n",
       "      <td>4.0</td>\n",
       "      <td>1.0</td>\n",
       "      <td>4.0</td>\n",
       "      <td>3.0</td>\n",
       "      <td>3.0</td>\n",
       "      <td>3.0</td>\n",
       "      <td>2.0</td>\n",
       "      <td>3.0</td>\n",
       "      <td>2.0</td>\n",
       "      <td>2.0</td>\n",
       "      <td>2.0</td>\n",
       "      <td>4.0</td>\n",
       "      <td>3.0</td>\n",
       "      <td>2.0</td>\n",
       "      <td>4.0</td>\n",
       "      <td>3.0</td>\n",
       "      <td>4.0</td>\n",
       "      <td>2.0</td>\n",
       "      <td>4.0</td>\n",
       "      <td>2.0</td>\n",
       "      <td>4.0</td>\n",
       "      <td>3.0</td>\n",
       "      <td>4.0</td>\n",
       "      <td>2.0</td>\n",
       "      <td>4.0</td>\n",
       "      <td>4.0</td>\n",
       "      <td>4.0</td>\n",
       "      <td>1.0</td>\n",
       "      <td>2.0</td>\n",
       "      <td>2.0</td>\n",
       "      <td>3.0</td>\n",
       "      <td>1.0</td>\n",
       "      <td>4.0</td>\n",
       "      <td>4.0</td>\n",
       "      <td>2.0</td>\n",
       "      <td>5.0</td>\n",
       "      <td>2.0</td>\n",
       "      <td>3.0</td>\n",
       "      <td>1.0</td>\n",
       "      <td>4.0</td>\n",
       "      <td>4.0</td>\n",
       "      <td>3.0</td>\n",
       "      <td>3.0</td>\n",
       "    </tr>\n",
       "    <tr>\n",
       "      <th>4</th>\n",
       "      <td>3.0</td>\n",
       "      <td>3.0</td>\n",
       "      <td>3.0</td>\n",
       "      <td>3.0</td>\n",
       "      <td>5.0</td>\n",
       "      <td>3.0</td>\n",
       "      <td>3.0</td>\n",
       "      <td>5.0</td>\n",
       "      <td>3.0</td>\n",
       "      <td>4.0</td>\n",
       "      <td>1.0</td>\n",
       "      <td>5.0</td>\n",
       "      <td>5.0</td>\n",
       "      <td>3.0</td>\n",
       "      <td>1.0</td>\n",
       "      <td>1.0</td>\n",
       "      <td>1.0</td>\n",
       "      <td>1.0</td>\n",
       "      <td>3.0</td>\n",
       "      <td>2.0</td>\n",
       "      <td>1.0</td>\n",
       "      <td>5.0</td>\n",
       "      <td>1.0</td>\n",
       "      <td>5.0</td>\n",
       "      <td>1.0</td>\n",
       "      <td>3.0</td>\n",
       "      <td>1.0</td>\n",
       "      <td>5.0</td>\n",
       "      <td>5.0</td>\n",
       "      <td>3.0</td>\n",
       "      <td>5.0</td>\n",
       "      <td>1.0</td>\n",
       "      <td>5.0</td>\n",
       "      <td>1.0</td>\n",
       "      <td>3.0</td>\n",
       "      <td>1.0</td>\n",
       "      <td>5.0</td>\n",
       "      <td>1.0</td>\n",
       "      <td>5.0</td>\n",
       "      <td>5.0</td>\n",
       "      <td>5.0</td>\n",
       "      <td>1.0</td>\n",
       "      <td>5.0</td>\n",
       "      <td>1.0</td>\n",
       "      <td>5.0</td>\n",
       "      <td>1.0</td>\n",
       "      <td>5.0</td>\n",
       "      <td>3.0</td>\n",
       "      <td>5.0</td>\n",
       "      <td>5.0</td>\n",
       "    </tr>\n",
       "    <tr>\n",
       "      <th>...</th>\n",
       "      <td>...</td>\n",
       "      <td>...</td>\n",
       "      <td>...</td>\n",
       "      <td>...</td>\n",
       "      <td>...</td>\n",
       "      <td>...</td>\n",
       "      <td>...</td>\n",
       "      <td>...</td>\n",
       "      <td>...</td>\n",
       "      <td>...</td>\n",
       "      <td>...</td>\n",
       "      <td>...</td>\n",
       "      <td>...</td>\n",
       "      <td>...</td>\n",
       "      <td>...</td>\n",
       "      <td>...</td>\n",
       "      <td>...</td>\n",
       "      <td>...</td>\n",
       "      <td>...</td>\n",
       "      <td>...</td>\n",
       "      <td>...</td>\n",
       "      <td>...</td>\n",
       "      <td>...</td>\n",
       "      <td>...</td>\n",
       "      <td>...</td>\n",
       "      <td>...</td>\n",
       "      <td>...</td>\n",
       "      <td>...</td>\n",
       "      <td>...</td>\n",
       "      <td>...</td>\n",
       "      <td>...</td>\n",
       "      <td>...</td>\n",
       "      <td>...</td>\n",
       "      <td>...</td>\n",
       "      <td>...</td>\n",
       "      <td>...</td>\n",
       "      <td>...</td>\n",
       "      <td>...</td>\n",
       "      <td>...</td>\n",
       "      <td>...</td>\n",
       "      <td>...</td>\n",
       "      <td>...</td>\n",
       "      <td>...</td>\n",
       "      <td>...</td>\n",
       "      <td>...</td>\n",
       "      <td>...</td>\n",
       "      <td>...</td>\n",
       "      <td>...</td>\n",
       "      <td>...</td>\n",
       "      <td>...</td>\n",
       "    </tr>\n",
       "    <tr>\n",
       "      <th>1015336</th>\n",
       "      <td>4.0</td>\n",
       "      <td>2.0</td>\n",
       "      <td>4.0</td>\n",
       "      <td>3.0</td>\n",
       "      <td>4.0</td>\n",
       "      <td>3.0</td>\n",
       "      <td>3.0</td>\n",
       "      <td>3.0</td>\n",
       "      <td>3.0</td>\n",
       "      <td>3.0</td>\n",
       "      <td>4.0</td>\n",
       "      <td>3.0</td>\n",
       "      <td>3.0</td>\n",
       "      <td>3.0</td>\n",
       "      <td>4.0</td>\n",
       "      <td>3.0</td>\n",
       "      <td>4.0</td>\n",
       "      <td>3.0</td>\n",
       "      <td>3.0</td>\n",
       "      <td>3.0</td>\n",
       "      <td>5.0</td>\n",
       "      <td>4.0</td>\n",
       "      <td>2.0</td>\n",
       "      <td>5.0</td>\n",
       "      <td>2.0</td>\n",
       "      <td>4.0</td>\n",
       "      <td>2.0</td>\n",
       "      <td>4.0</td>\n",
       "      <td>4.0</td>\n",
       "      <td>4.0</td>\n",
       "      <td>2.0</td>\n",
       "      <td>3.0</td>\n",
       "      <td>3.0</td>\n",
       "      <td>3.0</td>\n",
       "      <td>4.0</td>\n",
       "      <td>4.0</td>\n",
       "      <td>4.0</td>\n",
       "      <td>2.0</td>\n",
       "      <td>3.0</td>\n",
       "      <td>3.0</td>\n",
       "      <td>2.0</td>\n",
       "      <td>2.0</td>\n",
       "      <td>4.0</td>\n",
       "      <td>3.0</td>\n",
       "      <td>4.0</td>\n",
       "      <td>2.0</td>\n",
       "      <td>4.0</td>\n",
       "      <td>2.0</td>\n",
       "      <td>2.0</td>\n",
       "      <td>4.0</td>\n",
       "    </tr>\n",
       "    <tr>\n",
       "      <th>1015337</th>\n",
       "      <td>4.0</td>\n",
       "      <td>3.0</td>\n",
       "      <td>4.0</td>\n",
       "      <td>3.0</td>\n",
       "      <td>3.0</td>\n",
       "      <td>3.0</td>\n",
       "      <td>4.0</td>\n",
       "      <td>4.0</td>\n",
       "      <td>3.0</td>\n",
       "      <td>3.0</td>\n",
       "      <td>4.0</td>\n",
       "      <td>3.0</td>\n",
       "      <td>5.0</td>\n",
       "      <td>1.0</td>\n",
       "      <td>5.0</td>\n",
       "      <td>5.0</td>\n",
       "      <td>4.0</td>\n",
       "      <td>4.0</td>\n",
       "      <td>4.0</td>\n",
       "      <td>5.0</td>\n",
       "      <td>2.0</td>\n",
       "      <td>4.0</td>\n",
       "      <td>1.0</td>\n",
       "      <td>4.0</td>\n",
       "      <td>3.0</td>\n",
       "      <td>5.0</td>\n",
       "      <td>3.0</td>\n",
       "      <td>3.0</td>\n",
       "      <td>5.0</td>\n",
       "      <td>3.0</td>\n",
       "      <td>3.0</td>\n",
       "      <td>2.0</td>\n",
       "      <td>3.0</td>\n",
       "      <td>4.0</td>\n",
       "      <td>3.0</td>\n",
       "      <td>3.0</td>\n",
       "      <td>2.0</td>\n",
       "      <td>3.0</td>\n",
       "      <td>2.0</td>\n",
       "      <td>3.0</td>\n",
       "      <td>4.0</td>\n",
       "      <td>1.0</td>\n",
       "      <td>5.0</td>\n",
       "      <td>1.0</td>\n",
       "      <td>5.0</td>\n",
       "      <td>1.0</td>\n",
       "      <td>3.0</td>\n",
       "      <td>4.0</td>\n",
       "      <td>5.0</td>\n",
       "      <td>4.0</td>\n",
       "    </tr>\n",
       "    <tr>\n",
       "      <th>1015338</th>\n",
       "      <td>4.0</td>\n",
       "      <td>2.0</td>\n",
       "      <td>4.0</td>\n",
       "      <td>3.0</td>\n",
       "      <td>5.0</td>\n",
       "      <td>1.0</td>\n",
       "      <td>4.0</td>\n",
       "      <td>2.0</td>\n",
       "      <td>4.0</td>\n",
       "      <td>4.0</td>\n",
       "      <td>3.0</td>\n",
       "      <td>2.0</td>\n",
       "      <td>4.0</td>\n",
       "      <td>3.0</td>\n",
       "      <td>2.0</td>\n",
       "      <td>2.0</td>\n",
       "      <td>4.0</td>\n",
       "      <td>2.0</td>\n",
       "      <td>4.0</td>\n",
       "      <td>1.0</td>\n",
       "      <td>3.0</td>\n",
       "      <td>5.0</td>\n",
       "      <td>5.0</td>\n",
       "      <td>3.0</td>\n",
       "      <td>2.0</td>\n",
       "      <td>3.0</td>\n",
       "      <td>2.0</td>\n",
       "      <td>4.0</td>\n",
       "      <td>3.0</td>\n",
       "      <td>5.0</td>\n",
       "      <td>4.0</td>\n",
       "      <td>5.0</td>\n",
       "      <td>3.0</td>\n",
       "      <td>5.0</td>\n",
       "      <td>1.0</td>\n",
       "      <td>5.0</td>\n",
       "      <td>1.0</td>\n",
       "      <td>4.0</td>\n",
       "      <td>1.0</td>\n",
       "      <td>4.0</td>\n",
       "      <td>5.0</td>\n",
       "      <td>1.0</td>\n",
       "      <td>5.0</td>\n",
       "      <td>1.0</td>\n",
       "      <td>4.0</td>\n",
       "      <td>1.0</td>\n",
       "      <td>5.0</td>\n",
       "      <td>5.0</td>\n",
       "      <td>4.0</td>\n",
       "      <td>5.0</td>\n",
       "    </tr>\n",
       "    <tr>\n",
       "      <th>1015339</th>\n",
       "      <td>2.0</td>\n",
       "      <td>4.0</td>\n",
       "      <td>3.0</td>\n",
       "      <td>4.0</td>\n",
       "      <td>2.0</td>\n",
       "      <td>2.0</td>\n",
       "      <td>1.0</td>\n",
       "      <td>4.0</td>\n",
       "      <td>2.0</td>\n",
       "      <td>4.0</td>\n",
       "      <td>4.0</td>\n",
       "      <td>3.0</td>\n",
       "      <td>4.0</td>\n",
       "      <td>2.0</td>\n",
       "      <td>4.0</td>\n",
       "      <td>4.0</td>\n",
       "      <td>2.0</td>\n",
       "      <td>2.0</td>\n",
       "      <td>4.0</td>\n",
       "      <td>4.0</td>\n",
       "      <td>2.0</td>\n",
       "      <td>3.0</td>\n",
       "      <td>2.0</td>\n",
       "      <td>4.0</td>\n",
       "      <td>3.0</td>\n",
       "      <td>4.0</td>\n",
       "      <td>2.0</td>\n",
       "      <td>4.0</td>\n",
       "      <td>4.0</td>\n",
       "      <td>3.0</td>\n",
       "      <td>4.0</td>\n",
       "      <td>2.0</td>\n",
       "      <td>4.0</td>\n",
       "      <td>2.0</td>\n",
       "      <td>2.0</td>\n",
       "      <td>2.0</td>\n",
       "      <td>4.0</td>\n",
       "      <td>2.0</td>\n",
       "      <td>4.0</td>\n",
       "      <td>4.0</td>\n",
       "      <td>5.0</td>\n",
       "      <td>2.0</td>\n",
       "      <td>4.0</td>\n",
       "      <td>2.0</td>\n",
       "      <td>3.0</td>\n",
       "      <td>2.0</td>\n",
       "      <td>4.0</td>\n",
       "      <td>5.0</td>\n",
       "      <td>5.0</td>\n",
       "      <td>3.0</td>\n",
       "    </tr>\n",
       "    <tr>\n",
       "      <th>1015340</th>\n",
       "      <td>4.0</td>\n",
       "      <td>2.0</td>\n",
       "      <td>4.0</td>\n",
       "      <td>2.0</td>\n",
       "      <td>4.0</td>\n",
       "      <td>1.0</td>\n",
       "      <td>4.0</td>\n",
       "      <td>2.0</td>\n",
       "      <td>4.0</td>\n",
       "      <td>4.0</td>\n",
       "      <td>4.0</td>\n",
       "      <td>3.0</td>\n",
       "      <td>4.0</td>\n",
       "      <td>3.0</td>\n",
       "      <td>2.0</td>\n",
       "      <td>3.0</td>\n",
       "      <td>3.0</td>\n",
       "      <td>1.0</td>\n",
       "      <td>4.0</td>\n",
       "      <td>2.0</td>\n",
       "      <td>1.0</td>\n",
       "      <td>5.0</td>\n",
       "      <td>2.0</td>\n",
       "      <td>4.0</td>\n",
       "      <td>3.0</td>\n",
       "      <td>5.0</td>\n",
       "      <td>2.0</td>\n",
       "      <td>3.0</td>\n",
       "      <td>4.0</td>\n",
       "      <td>5.0</td>\n",
       "      <td>3.0</td>\n",
       "      <td>4.0</td>\n",
       "      <td>3.0</td>\n",
       "      <td>3.0</td>\n",
       "      <td>2.0</td>\n",
       "      <td>3.0</td>\n",
       "      <td>3.0</td>\n",
       "      <td>2.0</td>\n",
       "      <td>2.0</td>\n",
       "      <td>3.0</td>\n",
       "      <td>5.0</td>\n",
       "      <td>1.0</td>\n",
       "      <td>5.0</td>\n",
       "      <td>1.0</td>\n",
       "      <td>3.0</td>\n",
       "      <td>1.0</td>\n",
       "      <td>5.0</td>\n",
       "      <td>4.0</td>\n",
       "      <td>5.0</td>\n",
       "      <td>5.0</td>\n",
       "    </tr>\n",
       "  </tbody>\n",
       "</table>\n",
       "<p>1015341 rows × 50 columns</p>\n",
       "</div>"
      ],
      "text/plain": [
       "         EXT1  EXT2  EXT3  EXT4  EXT5  EXT6  EXT7  EXT8  EXT9  EXT10  EST1  \\\n",
       "0         4.0   1.0   5.0   2.0   5.0   1.0   5.0   2.0   4.0    1.0   1.0   \n",
       "1         3.0   5.0   3.0   4.0   3.0   3.0   2.0   5.0   1.0    5.0   2.0   \n",
       "2         2.0   3.0   4.0   4.0   3.0   2.0   1.0   3.0   2.0    5.0   4.0   \n",
       "3         2.0   2.0   2.0   3.0   4.0   2.0   2.0   4.0   1.0    4.0   3.0   \n",
       "4         3.0   3.0   3.0   3.0   5.0   3.0   3.0   5.0   3.0    4.0   1.0   \n",
       "...       ...   ...   ...   ...   ...   ...   ...   ...   ...    ...   ...   \n",
       "1015336   4.0   2.0   4.0   3.0   4.0   3.0   3.0   3.0   3.0    3.0   4.0   \n",
       "1015337   4.0   3.0   4.0   3.0   3.0   3.0   4.0   4.0   3.0    3.0   4.0   \n",
       "1015338   4.0   2.0   4.0   3.0   5.0   1.0   4.0   2.0   4.0    4.0   3.0   \n",
       "1015339   2.0   4.0   3.0   4.0   2.0   2.0   1.0   4.0   2.0    4.0   4.0   \n",
       "1015340   4.0   2.0   4.0   2.0   4.0   1.0   4.0   2.0   4.0    4.0   4.0   \n",
       "\n",
       "         EST2  EST3  EST4  EST5  EST6  EST7  EST8  EST9  EST10  AGR1  AGR2  \\\n",
       "0         4.0   4.0   2.0   2.0   2.0   2.0   2.0   3.0    2.0   2.0   5.0   \n",
       "1         3.0   4.0   1.0   3.0   1.0   2.0   1.0   3.0    1.0   1.0   4.0   \n",
       "2         4.0   4.0   2.0   2.0   2.0   2.0   2.0   1.0    3.0   1.0   4.0   \n",
       "3         3.0   3.0   2.0   3.0   2.0   2.0   2.0   4.0    3.0   2.0   4.0   \n",
       "4         5.0   5.0   3.0   1.0   1.0   1.0   1.0   3.0    2.0   1.0   5.0   \n",
       "...       ...   ...   ...   ...   ...   ...   ...   ...    ...   ...   ...   \n",
       "1015336   3.0   3.0   3.0   4.0   3.0   4.0   3.0   3.0    3.0   5.0   4.0   \n",
       "1015337   3.0   5.0   1.0   5.0   5.0   4.0   4.0   4.0    5.0   2.0   4.0   \n",
       "1015338   2.0   4.0   3.0   2.0   2.0   4.0   2.0   4.0    1.0   3.0   5.0   \n",
       "1015339   3.0   4.0   2.0   4.0   4.0   2.0   2.0   4.0    4.0   2.0   3.0   \n",
       "1015340   3.0   4.0   3.0   2.0   3.0   3.0   1.0   4.0    2.0   1.0   5.0   \n",
       "\n",
       "         AGR3  AGR4  AGR5  AGR6  AGR7  AGR8  AGR9  AGR10  CSN1  CSN2  CSN3  \\\n",
       "0         2.0   4.0   2.0   3.0   2.0   4.0   3.0    4.0   3.0   4.0   3.0   \n",
       "1         1.0   5.0   1.0   5.0   3.0   4.0   5.0    3.0   3.0   2.0   5.0   \n",
       "2         1.0   4.0   2.0   4.0   1.0   4.0   4.0    3.0   4.0   2.0   2.0   \n",
       "3         3.0   4.0   2.0   4.0   2.0   4.0   3.0    4.0   2.0   4.0   4.0   \n",
       "4         1.0   5.0   1.0   3.0   1.0   5.0   5.0    3.0   5.0   1.0   5.0   \n",
       "...       ...   ...   ...   ...   ...   ...   ...    ...   ...   ...   ...   \n",
       "1015336   2.0   5.0   2.0   4.0   2.0   4.0   4.0    4.0   2.0   3.0   3.0   \n",
       "1015337   1.0   4.0   3.0   5.0   3.0   3.0   5.0    3.0   3.0   2.0   3.0   \n",
       "1015338   5.0   3.0   2.0   3.0   2.0   4.0   3.0    5.0   4.0   5.0   3.0   \n",
       "1015339   2.0   4.0   3.0   4.0   2.0   4.0   4.0    3.0   4.0   2.0   4.0   \n",
       "1015340   2.0   4.0   3.0   5.0   2.0   3.0   4.0    5.0   3.0   4.0   3.0   \n",
       "\n",
       "         CSN4  CSN5  CSN6  CSN7  CSN8  CSN9  CSN10  OPN1  OPN2  OPN3  OPN4  \\\n",
       "0         2.0   2.0   4.0   4.0   2.0   4.0    4.0   5.0   1.0   4.0   1.0   \n",
       "1         3.0   3.0   1.0   3.0   3.0   5.0    3.0   1.0   2.0   4.0   2.0   \n",
       "2         2.0   3.0   3.0   4.0   2.0   4.0    2.0   5.0   1.0   2.0   1.0   \n",
       "3         4.0   1.0   2.0   2.0   3.0   1.0    4.0   4.0   2.0   5.0   2.0   \n",
       "4         1.0   3.0   1.0   5.0   1.0   5.0    5.0   5.0   1.0   5.0   1.0   \n",
       "...       ...   ...   ...   ...   ...   ...    ...   ...   ...   ...   ...   \n",
       "1015336   3.0   4.0   4.0   4.0   2.0   3.0    3.0   2.0   2.0   4.0   3.0   \n",
       "1015337   4.0   3.0   3.0   2.0   3.0   2.0    3.0   4.0   1.0   5.0   1.0   \n",
       "1015338   5.0   1.0   5.0   1.0   4.0   1.0    4.0   5.0   1.0   5.0   1.0   \n",
       "1015339   2.0   2.0   2.0   4.0   2.0   4.0    4.0   5.0   2.0   4.0   2.0   \n",
       "1015340   3.0   2.0   3.0   3.0   2.0   2.0    3.0   5.0   1.0   5.0   1.0   \n",
       "\n",
       "         OPN5  OPN6  OPN7  OPN8  OPN9  OPN10  \n",
       "0         4.0   1.0   5.0   3.0   4.0    5.0  \n",
       "1         3.0   1.0   4.0   2.0   5.0    3.0  \n",
       "2         4.0   2.0   5.0   3.0   4.0    4.0  \n",
       "3         3.0   1.0   4.0   4.0   3.0    3.0  \n",
       "4         5.0   1.0   5.0   3.0   5.0    5.0  \n",
       "...       ...   ...   ...   ...   ...    ...  \n",
       "1015336   4.0   2.0   4.0   2.0   2.0    4.0  \n",
       "1015337   5.0   1.0   3.0   4.0   5.0    4.0  \n",
       "1015338   4.0   1.0   5.0   5.0   4.0    5.0  \n",
       "1015339   3.0   2.0   4.0   5.0   5.0    3.0  \n",
       "1015340   3.0   1.0   5.0   4.0   5.0    5.0  \n",
       "\n",
       "[1015341 rows x 50 columns]"
      ]
     },
     "execution_count": 6,
     "metadata": {},
     "output_type": "execute_result"
    }
   ],
   "source": [
    "X"
   ]
  },
  {
   "cell_type": "code",
   "execution_count": 7,
   "metadata": {
    "execution": {
     "iopub.execute_input": "2021-02-17T14:01:32.128893Z",
     "iopub.status.busy": "2021-02-17T14:01:32.127649Z",
     "iopub.status.idle": "2021-02-17T14:01:32.273103Z",
     "shell.execute_reply": "2021-02-17T14:01:32.273787Z"
    },
    "papermill": {
     "duration": 0.190497,
     "end_time": "2021-02-17T14:01:32.274025",
     "exception": false,
     "start_time": "2021-02-17T14:01:32.083528",
     "status": "completed"
    },
    "tags": []
   },
   "outputs": [],
   "source": [
    "# fill in missing values with zeros\n",
    "\n",
    "X= X.fillna(0)"
   ]
  },
  {
   "cell_type": "markdown",
   "metadata": {
    "papermill": {
     "duration": 0.038978,
     "end_time": "2021-02-17T14:01:32.352635",
     "exception": false,
     "start_time": "2021-02-17T14:01:32.313657",
     "status": "completed"
    },
    "tags": []
   },
   "source": [
    "Now, we will run a k-means algorithm with number of clusters, batch size, random state and maximum iteration as a parameters.\n",
    "* Here, number of clusters are 10. We can change it to any number\n",
    "* Our batch size is 100 i.e. amount of data trained at once"
   ]
  },
  {
   "cell_type": "code",
   "execution_count": 8,
   "metadata": {
    "execution": {
     "iopub.execute_input": "2021-02-17T14:01:32.441963Z",
     "iopub.status.busy": "2021-02-17T14:01:32.441061Z",
     "iopub.status.idle": "2021-02-17T14:01:38.741179Z",
     "shell.execute_reply": "2021-02-17T14:01:38.741980Z"
    },
    "papermill": {
     "duration": 6.348181,
     "end_time": "2021-02-17T14:01:38.742195",
     "exception": false,
     "start_time": "2021-02-17T14:01:32.394014",
     "status": "completed"
    },
    "tags": []
   },
   "outputs": [],
   "source": [
    "kmeans= MiniBatchKMeans(n_clusters= 10, random_state= 0, batch_size= 100, max_iter= 100).fit(X)"
   ]
  },
  {
   "cell_type": "code",
   "execution_count": 9,
   "metadata": {
    "execution": {
     "iopub.execute_input": "2021-02-17T14:01:38.829221Z",
     "iopub.status.busy": "2021-02-17T14:01:38.828157Z",
     "iopub.status.idle": "2021-02-17T14:01:38.834540Z",
     "shell.execute_reply": "2021-02-17T14:01:38.835255Z"
    },
    "papermill": {
     "duration": 0.050337,
     "end_time": "2021-02-17T14:01:38.835489",
     "exception": false,
     "start_time": "2021-02-17T14:01:38.785152",
     "status": "completed"
    },
    "tags": []
   },
   "outputs": [
    {
     "data": {
      "text/plain": [
       "10"
      ]
     },
     "execution_count": 9,
     "metadata": {},
     "output_type": "execute_result"
    }
   ],
   "source": [
    "# length of a cluster\n",
    "\n",
    "len(kmeans.cluster_centers_)"
   ]
  },
  {
   "cell_type": "code",
   "execution_count": 10,
   "metadata": {
    "execution": {
     "iopub.execute_input": "2021-02-17T14:01:38.928493Z",
     "iopub.status.busy": "2021-02-17T14:01:38.927360Z",
     "iopub.status.idle": "2021-02-17T14:01:38.937638Z",
     "shell.execute_reply": "2021-02-17T14:01:38.938325Z"
    },
    "papermill": {
     "duration": 0.062128,
     "end_time": "2021-02-17T14:01:38.938598",
     "exception": false,
     "start_time": "2021-02-17T14:01:38.876470",
     "status": "completed"
    },
    "tags": []
   },
   "outputs": [],
   "source": [
    "one= kmeans.cluster_centers_[0] #personality type 1\n",
    "\n",
    "two= kmeans.cluster_centers_[1]\n",
    "\n",
    "three= kmeans.cluster_centers_[2]\n",
    "\n",
    "four= kmeans.cluster_centers_[3]\n",
    "\n",
    "five= kmeans.cluster_centers_[4]\n",
    "\n",
    "six= kmeans.cluster_centers_[5]\n",
    "\n",
    "seven= kmeans.cluster_centers_[6]\n",
    "\n",
    "eight= kmeans.cluster_centers_[7]\n",
    "\n",
    "nine= kmeans.cluster_centers_[8]\n",
    "\n",
    "ten= kmeans.cluster_centers_[9]"
   ]
  },
  {
   "cell_type": "code",
   "execution_count": 11,
   "metadata": {
    "execution": {
     "iopub.execute_input": "2021-02-17T14:01:39.031693Z",
     "iopub.status.busy": "2021-02-17T14:01:39.030560Z",
     "iopub.status.idle": "2021-02-17T14:01:39.038001Z",
     "shell.execute_reply": "2021-02-17T14:01:39.038655Z"
    },
    "papermill": {
     "duration": 0.05749,
     "end_time": "2021-02-17T14:01:39.038864",
     "exception": false,
     "start_time": "2021-02-17T14:01:38.981374",
     "status": "completed"
    },
    "tags": []
   },
   "outputs": [
    {
     "data": {
      "text/plain": [
       "array([3.51875306, 1.8936703 , 4.45234737, 2.11922512, 4.35885553,\n",
       "       1.56325379, 3.98647132, 2.76422671, 3.81405256, 2.3716646 ,\n",
       "       2.05604329, 3.97875709, 2.92127457, 3.4824271 , 1.8897844 ,\n",
       "       1.67228923, 1.87329092, 1.47554762, 1.86143174, 1.5434501 ,\n",
       "       1.79666676, 4.49912207, 1.70769408, 4.29999136, 1.7910538 ,\n",
       "       3.85187531, 1.50729685, 4.16565441, 4.14265565, 4.31282922,\n",
       "       3.87432716, 2.42716099, 4.31288679, 1.68691172, 3.30911603,\n",
       "       2.07210501, 3.97875709, 1.76252842, 3.69278374, 4.00077718,\n",
       "       4.0497395 , 1.58055324, 4.18154342, 1.64966466, 4.2821738 ,\n",
       "       1.53360583, 4.44892202, 3.33657638, 4.18433551, 4.42462796])"
      ]
     },
     "execution_count": 11,
     "metadata": {},
     "output_type": "execute_result"
    }
   ],
   "source": [
    "# cluster one\n",
    "\n",
    "one"
   ]
  },
  {
   "cell_type": "markdown",
   "metadata": {
    "papermill": {
     "duration": 0.048847,
     "end_time": "2021-02-17T14:01:39.136122",
     "exception": false,
     "start_time": "2021-02-17T14:01:39.087275",
     "status": "completed"
    },
    "tags": []
   },
   "source": [
    "Now, we will calculate scores of cluster one.\n",
    "Here we added and substracted the questions depends upon the type of the personality."
   ]
  },
  {
   "cell_type": "code",
   "execution_count": 12,
   "metadata": {
    "execution": {
     "iopub.execute_input": "2021-02-17T14:01:39.228511Z",
     "iopub.status.busy": "2021-02-17T14:01:39.227447Z",
     "iopub.status.idle": "2021-02-17T14:01:39.240127Z",
     "shell.execute_reply": "2021-02-17T14:01:39.240789Z"
    },
    "papermill": {
     "duration": 0.061154,
     "end_time": "2021-02-17T14:01:39.240998",
     "exception": false,
     "start_time": "2021-02-17T14:01:39.179844",
     "status": "completed"
    },
    "tags": []
   },
   "outputs": [],
   "source": [
    "one_scores= {}\n",
    "\n",
    "one_scores['extroversion_score']= one[0]- one[1]+ one[2]- one[3]+ one[4]- one[5]+ one[6]- one[7]+ one[8]- one[9]\n",
    "one_scores['neuroticism_score']= one[0]- one[1]+ one[2]- one[3]+ one[4]+ one[5]+ one[6]+ one[7]+ one[8]+ one[9]\n",
    "one_scores['agreeableness_score']= -one[0]+ one[1]- one[2]+ one[3]- one[4]- one[5]+ one[6]- one[7]+ one[8]+ one[9]\n",
    "one_scores['conscientiousness_score']= one[0]- one[1]+ one[2]- one[3]+ one[4]- one[5]+ one[6]- one[7]+ one[8]+ one[9]\n",
    "one_scores['openness_score']= one[0]- one[1]+ one[2]- one[3]+ one[4]- one[5]+ one[6]+ one[7]+ one[8]+ one[9]"
   ]
  },
  {
   "cell_type": "code",
   "execution_count": 13,
   "metadata": {
    "execution": {
     "iopub.execute_input": "2021-02-17T14:01:39.328870Z",
     "iopub.status.busy": "2021-02-17T14:01:39.327802Z",
     "iopub.status.idle": "2021-02-17T14:01:39.337134Z",
     "shell.execute_reply": "2021-02-17T14:01:39.336228Z"
    },
    "papermill": {
     "duration": 0.054362,
     "end_time": "2021-02-17T14:01:39.337308",
     "exception": false,
     "start_time": "2021-02-17T14:01:39.282946",
     "status": "completed"
    },
    "tags": []
   },
   "outputs": [
    {
     "data": {
      "text/plain": [
       "{'extroversion_score': 9.418439308022236,\n",
       " 'neuroticism_score': 22.81672951267956,\n",
       " 'agreeableness_score': -2.472352551740031,\n",
       " 'conscientiousness_score': 14.16176851558679,\n",
       " 'openness_score': 19.690221927981366}"
      ]
     },
     "execution_count": 13,
     "metadata": {},
     "output_type": "execute_result"
    }
   ],
   "source": [
    "one_scores"
   ]
  },
  {
   "cell_type": "code",
   "execution_count": 14,
   "metadata": {
    "execution": {
     "iopub.execute_input": "2021-02-17T14:01:39.444663Z",
     "iopub.status.busy": "2021-02-17T14:01:39.442882Z",
     "iopub.status.idle": "2021-02-17T14:01:39.447383Z",
     "shell.execute_reply": "2021-02-17T14:01:39.446701Z"
    },
    "papermill": {
     "duration": 0.067051,
     "end_time": "2021-02-17T14:01:39.447600",
     "exception": false,
     "start_time": "2021-02-17T14:01:39.380549",
     "status": "completed"
    },
    "tags": []
   },
   "outputs": [],
   "source": [
    "# calculating scores for all 10 clusters\n",
    "\n",
    "all_types= {'one':one, 'two':two, 'three':three, 'four':four, 'five':five, 'six':six, 'seven':seven, 'eight':eight,\n",
    "            'nine':nine, 'ten':ten}\n",
    "\n",
    "all_types_scores= {}\n",
    "\n",
    "for name, personality_type in all_types.items():\n",
    "    personality_trait= {}\n",
    "    \n",
    "    personality_trait['extroversion_score']= personality_type[0]- personality_type[1]+ personality_type[2]- personality_type[3]+ personality_type[4]- personality_type[5]+ personality_type[6]- personality_type[7]+ personality_type[8]- personality_type[9]\n",
    "    personality_trait['neuroticism_score']= personality_type[0]- personality_type[1]+ personality_type[2]- personality_type[3]+ personality_type[4]+ personality_type[5]+ personality_type[6]+ personality_type[7]+ personality_type[8]+ personality_type[9]\n",
    "    personality_trait['agreeableness_score']= -personality_type[0]+ personality_type[1]- personality_type[2]+ personality_type[3]- personality_type[4]- personality_type[5]+ personality_type[6]- personality_type[7]+ personality_type[8]+ personality_type[9]\n",
    "    personality_trait['conscientiousness_score']= personality_type[0]- personality_type[1]+ personality_type[2]- personality_type[3]+ personality_type[4]- personality_type[5]+ personality_type[6]- personality_type[7]+ personality_type[8]+ personality_type[9]\n",
    "    personality_trait['openness_score']= personality_type[0]- personality_type[1]+ personality_type[2]- personality_type[3]+ personality_type[4]- personality_type[5]+ personality_type[6]+ personality_type[7]+ personality_type[8]+ personality_type[9]\n",
    "    \n",
    "    all_types_scores[name]= personality_trait"
   ]
  },
  {
   "cell_type": "code",
   "execution_count": 15,
   "metadata": {
    "execution": {
     "iopub.execute_input": "2021-02-17T14:01:39.538054Z",
     "iopub.status.busy": "2021-02-17T14:01:39.536953Z",
     "iopub.status.idle": "2021-02-17T14:01:39.548374Z",
     "shell.execute_reply": "2021-02-17T14:01:39.547654Z"
    },
    "papermill": {
     "duration": 0.05778,
     "end_time": "2021-02-17T14:01:39.548575",
     "exception": false,
     "start_time": "2021-02-17T14:01:39.490795",
     "status": "completed"
    },
    "tags": []
   },
   "outputs": [
    {
     "data": {
      "text/plain": [
       "{'one': {'extroversion_score': 9.418439308022236,\n",
       "  'neuroticism_score': 22.81672951267956,\n",
       "  'agreeableness_score': -2.472352551740031,\n",
       "  'conscientiousness_score': 14.16176851558679,\n",
       "  'openness_score': 19.690221927981366},\n",
       " 'two': {'extroversion_score': -12.106881315082008,\n",
       "  'neuroticism_score': 12.675431820288606,\n",
       "  'agreeableness_score': 3.1387386830639694,\n",
       "  'conscientiousness_score': -2.735438618175065,\n",
       "  'openness_score': 6.084757284553353},\n",
       " 'three': {'extroversion_score': 0.4408099688473518,\n",
       "  'neuroticism_score': 1.3909657320872277,\n",
       "  'agreeableness_score': -0.4885773624091373,\n",
       "  'conscientiousness_score': 0.776220145379024,\n",
       "  'openness_score': 1.036863966770509},\n",
       " 'four': {'extroversion_score': 6.063536261232744,\n",
       "  'neuroticism_score': 21.75743576762436,\n",
       "  'agreeableness_score': -1.7647133274269127,\n",
       "  'conscientiousness_score': 11.796861156815591,\n",
       "  'openness_score': 17.5417668649538},\n",
       " 'five': {'extroversion_score': -4.32482916919505,\n",
       "  'neuroticism_score': 16.819090837136894,\n",
       "  'agreeableness_score': 0.6138300398385099,\n",
       "  'conscientiousness_score': 3.8468722792390917,\n",
       "  'openness_score': 11.883017175421466},\n",
       " 'six': {'extroversion_score': 1.6348147452159485,\n",
       "  'neuroticism_score': 19.614582354599264,\n",
       "  'agreeableness_score': 0.3044254439537828,\n",
       "  'conscientiousness_score': 8.997024648438725,\n",
       "  'openness_score': 15.560963387516054},\n",
       " 'seven': {'extroversion_score': 8.72930636768416,\n",
       "  'neuroticism_score': 22.649160452765436,\n",
       "  'agreeableness_score': -1.7636929349284136,\n",
       "  'conscientiousness_score': 14.026447079019384,\n",
       "  'openness_score': 19.277882087870847},\n",
       " 'eight': {'extroversion_score': -6.291296271726161,\n",
       "  'neuroticism_score': 16.277298659944307,\n",
       "  'agreeableness_score': 1.145813984343937,\n",
       "  'conscientiousness_score': 2.02706647207115,\n",
       "  'openness_score': 9.513599575427923},\n",
       " 'nine': {'extroversion_score': -7.503474635163293,\n",
       "  'neuroticism_score': 15.144955461494725,\n",
       "  'agreeableness_score': 1.6951481458083189,\n",
       "  'conscientiousness_score': 0.8435466548739594,\n",
       "  'openness_score': 8.80349358771874},\n",
       " 'ten': {'extroversion_score': -0.9626630482359997,\n",
       "  'neuroticism_score': 17.41998599317168,\n",
       "  'agreeableness_score': 1.6769237503282786,\n",
       "  'conscientiousness_score': 6.502538737634612,\n",
       "  'openness_score': 12.922393416790703}}"
      ]
     },
     "execution_count": 15,
     "metadata": {},
     "output_type": "execute_result"
    }
   ],
   "source": [
    "all_types_scores"
   ]
  },
  {
   "cell_type": "markdown",
   "metadata": {
    "papermill": {
     "duration": 0.043747,
     "end_time": "2021-02-17T14:01:39.636925",
     "exception": false,
     "start_time": "2021-02-17T14:01:39.593178",
     "status": "completed"
    },
    "tags": []
   },
   "source": [
    "The magnitudes of these scores are not relative to each other. To compare the types, we will normalize the data."
   ]
  },
  {
   "cell_type": "code",
   "execution_count": 16,
   "metadata": {
    "execution": {
     "iopub.execute_input": "2021-02-17T14:01:39.733946Z",
     "iopub.status.busy": "2021-02-17T14:01:39.733084Z",
     "iopub.status.idle": "2021-02-17T14:01:39.738000Z",
     "shell.execute_reply": "2021-02-17T14:01:39.737214Z"
    },
    "papermill": {
     "duration": 0.056627,
     "end_time": "2021-02-17T14:01:39.738171",
     "exception": false,
     "start_time": "2021-02-17T14:01:39.681544",
     "status": "completed"
    },
    "tags": []
   },
   "outputs": [],
   "source": [
    "all_extroversion= []\n",
    "all_neuroticism= []\n",
    "all_agreeableness= []\n",
    "all_conscientiousness= []\n",
    "all_openness= []\n",
    "\n",
    "for personlity_type, personality_trait in all_types_scores.items():\n",
    "    all_extroversion.append(personality_trait['extroversion_score'])\n",
    "    all_neuroticism.append(personality_trait['neuroticism_score'])\n",
    "    all_agreeableness.append(personality_trait['agreeableness_score'])\n",
    "    all_conscientiousness.append(personality_trait['conscientiousness_score'])\n",
    "    all_openness.append(personality_trait['openness_score'])"
   ]
  },
  {
   "cell_type": "markdown",
   "metadata": {
    "papermill": {
     "duration": 0.044234,
     "end_time": "2021-02-17T14:01:39.826683",
     "exception": false,
     "start_time": "2021-02-17T14:01:39.782449",
     "status": "completed"
    },
    "tags": []
   },
   "source": [
    "Now, we will use the equation for normalization i.e. norm(i)= x(i)-min(x) / max(x)-min(x)"
   ]
  },
  {
   "cell_type": "code",
   "execution_count": 17,
   "metadata": {
    "execution": {
     "iopub.execute_input": "2021-02-17T14:01:39.924861Z",
     "iopub.status.busy": "2021-02-17T14:01:39.924083Z",
     "iopub.status.idle": "2021-02-17T14:01:39.929797Z",
     "shell.execute_reply": "2021-02-17T14:01:39.929098Z"
    },
    "papermill": {
     "duration": 0.058342,
     "end_time": "2021-02-17T14:01:39.929941",
     "exception": false,
     "start_time": "2021-02-17T14:01:39.871599",
     "status": "completed"
    },
    "tags": []
   },
   "outputs": [],
   "source": [
    "all_extroversion_normalized= (all_extroversion-min(all_extroversion))/(max(all_extroversion)- min(all_extroversion))\n",
    "all_neuroticism_normalized= (all_neuroticism-min(all_neuroticism))/(max(all_neuroticism)- min(all_neuroticism))\n",
    "all_agreeableness_normalized= (all_agreeableness-min(all_agreeableness))/(max(all_agreeableness)- min(all_agreeableness))\n",
    "all_conscientiousness_normalized= (all_conscientiousness-min(all_conscientiousness))/(max(all_conscientiousness)- min(all_conscientiousness))\n",
    "all_openness_normalized= (all_openness-min(all_openness))/(max(all_openness)- min(all_openness))"
   ]
  },
  {
   "cell_type": "code",
   "execution_count": 18,
   "metadata": {
    "execution": {
     "iopub.execute_input": "2021-02-17T14:01:39.997460Z",
     "iopub.status.busy": "2021-02-17T14:01:39.995821Z",
     "iopub.status.idle": "2021-02-17T14:01:40.002556Z",
     "shell.execute_reply": "2021-02-17T14:01:40.003105Z"
    },
    "papermill": {
     "duration": 0.043553,
     "end_time": "2021-02-17T14:01:40.003275",
     "exception": false,
     "start_time": "2021-02-17T14:01:39.959722",
     "status": "completed"
    },
    "tags": []
   },
   "outputs": [
    {
     "data": {
      "text/plain": [
       "array([1.        , 0.        , 0.58292703, 0.84414155, 0.36153014,\n",
       "       0.63839681, 0.96798501, 0.27017414, 0.21386007, 0.51772601])"
      ]
     },
     "execution_count": 18,
     "metadata": {},
     "output_type": "execute_result"
    }
   ],
   "source": [
    "# normalized array of the type 'extroversion'\n",
    "\n",
    "all_extroversion_normalized"
   ]
  },
  {
   "cell_type": "code",
   "execution_count": 19,
   "metadata": {
    "execution": {
     "iopub.execute_input": "2021-02-17T14:01:40.072728Z",
     "iopub.status.busy": "2021-02-17T14:01:40.072013Z",
     "iopub.status.idle": "2021-02-17T14:01:40.077324Z",
     "shell.execute_reply": "2021-02-17T14:01:40.077867Z"
    },
    "papermill": {
     "duration": 0.045362,
     "end_time": "2021-02-17T14:01:40.078070",
     "exception": false,
     "start_time": "2021-02-17T14:01:40.032708",
     "status": "completed"
    },
    "tags": []
   },
   "outputs": [],
   "source": [
    "# normalizing all the data\n",
    "\n",
    "counter= 0\n",
    "\n",
    "normalized_all_types_scores= {}\n",
    "\n",
    "for personality_type, personality_trait in all_types_scores.items():\n",
    "    normalized_personality_trait= {}\n",
    "    normalized_personality_trait['extroversion_score']= all_extroversion_normalized[counter]\n",
    "    normalized_personality_trait['neuroticism_score']= all_neuroticism_normalized[counter]\n",
    "    normalized_personality_trait['agreeableness_score']= all_agreeableness_normalized[counter]\n",
    "    normalized_personality_trait['conscientiousness_score']= all_conscientiousness_normalized[counter]\n",
    "    normalized_personality_trait['openness_score']= all_openness_normalized[counter]\n",
    "    \n",
    "    normalized_all_types_scores[personality_type]= normalized_personality_trait\n",
    "\n",
    "    counter+= 1"
   ]
  },
  {
   "cell_type": "code",
   "execution_count": 20,
   "metadata": {
    "execution": {
     "iopub.execute_input": "2021-02-17T14:01:40.150523Z",
     "iopub.status.busy": "2021-02-17T14:01:40.149814Z",
     "iopub.status.idle": "2021-02-17T14:01:40.157665Z",
     "shell.execute_reply": "2021-02-17T14:01:40.158131Z"
    },
    "papermill": {
     "duration": 0.049928,
     "end_time": "2021-02-17T14:01:40.158322",
     "exception": false,
     "start_time": "2021-02-17T14:01:40.108394",
     "status": "completed"
    },
    "tags": []
   },
   "outputs": [
    {
     "data": {
      "text/plain": [
       "{'one': {'extroversion_score': 1.0,\n",
       "  'neuroticism_score': 1.0,\n",
       "  'agreeableness_score': 0.0,\n",
       "  'conscientiousness_score': 1.0,\n",
       "  'openness_score': 1.0},\n",
       " 'two': {'extroversion_score': 0.0,\n",
       "  'neuroticism_score': 0.5266774246070499,\n",
       "  'agreeableness_score': 1.0,\n",
       "  'conscientiousness_score': 0.0,\n",
       "  'openness_score': 0.2706157962700227},\n",
       " 'three': {'extroversion_score': 0.5829270329409761,\n",
       "  'neuroticism_score': 0.0,\n",
       "  'agreeableness_score': 0.35354534551605604,\n",
       "  'conscientiousness_score': 0.20782480416763896,\n",
       "  'openness_score': 0.0},\n",
       " 'four': {'extroversion_score': 0.8441415528469063,\n",
       "  'neuroticism_score': 0.9505598140676451,\n",
       "  'agreeableness_score': 0.1261143679011729,\n",
       "  'conscientiousness_score': 0.8600415240193192,\n",
       "  'openness_score': 0.8848220750657754},\n",
       " 'five': {'extroversion_score': 0.361530138488812,\n",
       "  'neuroticism_score': 0.7200735181736958,\n",
       "  'agreeableness_score': 0.5500146874169198,\n",
       "  'conscientiousness_score': 0.3895502283488151,\n",
       "  'openness_score': 0.5814584822317371},\n",
       " 'six': {'extroversion_score': 0.6383968118713308,\n",
       "  'neuroticism_score': 0.8505468840751043,\n",
       "  'agreeableness_score': 0.4948730789601586,\n",
       "  'conscientiousness_score': 0.6943433416976627,\n",
       "  'openness_score': 0.7786318930322362},\n",
       " 'seven': {'extroversion_score': 0.9679850092640017,\n",
       "  'neuroticism_score': 0.992179085813225,\n",
       "  'agreeableness_score': 0.12629622067379756,\n",
       "  'conscientiousness_score': 0.9919914909312427,\n",
       "  'openness_score': 0.9778946053054914},\n",
       " 'eight': {'extroversion_score': 0.2701741425915709,\n",
       "  'neuroticism_score': 0.6947865700517648,\n",
       "  'agreeableness_score': 0.6448240430741015,\n",
       "  'conscientiousness_score': 0.2818516132604176,\n",
       "  'openness_score': 0.45443483292844916},\n",
       " 'nine': {'extroversion_score': 0.2138600748635372,\n",
       "  'neuroticism_score': 0.6419369629131259,\n",
       "  'agreeableness_score': 0.7427255275584419,\n",
       "  'conscientiousness_score': 0.21180927976540873,\n",
       "  'openness_score': 0.41636629914564033},\n",
       " 'ten': {'extroversion_score': 0.5177260056644333,\n",
       "  'neuroticism_score': 0.7481189667368449,\n",
       "  'agreeableness_score': 0.7394776039875329,\n",
       "  'conscientiousness_score': 0.5467162284678114,\n",
       "  'openness_score': 0.6371790792165047}}"
      ]
     },
     "execution_count": 20,
     "metadata": {},
     "output_type": "execute_result"
    }
   ],
   "source": [
    "normalized_all_types_scores"
   ]
  },
  {
   "cell_type": "markdown",
   "metadata": {
    "papermill": {
     "duration": 0.030951,
     "end_time": "2021-02-17T14:01:40.221193",
     "exception": false,
     "start_time": "2021-02-17T14:01:40.190242",
     "status": "completed"
    },
    "tags": []
   },
   "source": [
    "Now, we are plotting the bar graph with respect to all the personality types for all the clusters."
   ]
  },
  {
   "cell_type": "code",
   "execution_count": 21,
   "metadata": {
    "execution": {
     "iopub.execute_input": "2021-02-17T14:01:40.315156Z",
     "iopub.status.busy": "2021-02-17T14:01:40.314506Z",
     "iopub.status.idle": "2021-02-17T14:01:40.488673Z",
     "shell.execute_reply": "2021-02-17T14:01:40.487678Z"
    },
    "papermill": {
     "duration": 0.236331,
     "end_time": "2021-02-17T14:01:40.488840",
     "exception": false,
     "start_time": "2021-02-17T14:01:40.252509",
     "status": "completed"
    },
    "tags": []
   },
   "outputs": [
    {
     "data": {
      "image/png": "[encoded data removed]",
      "text/plain": [
       "<Figure size 1080x360 with 1 Axes>"
      ]
     },
     "metadata": {
      "needs_background": "light"
     },
     "output_type": "display_data"
    }
   ],
   "source": [
    "# for cluster one\n",
    "\n",
    "plt.figure(figsize= (15,5))\n",
    "plt.ylim(0, 1)\n",
    "plt.bar(list(normalized_all_types_scores['one'].keys()), normalized_all_types_scores['one'].values(), color=['darkred', 'olive', 'darkorange', 'turquoise', 'indigo'])\n",
    "plt.show()"
   ]
  },
  {
   "cell_type": "code",
   "execution_count": 22,
   "metadata": {
    "execution": {
     "iopub.execute_input": "2021-02-17T14:01:40.592445Z",
     "iopub.status.busy": "2021-02-17T14:01:40.591285Z",
     "iopub.status.idle": "2021-02-17T14:01:40.782117Z",
     "shell.execute_reply": "2021-02-17T14:01:40.780149Z"
    },
    "papermill": {
     "duration": 0.246806,
     "end_time": "2021-02-17T14:01:40.782325",
     "exception": false,
     "start_time": "2021-02-17T14:01:40.535519",
     "status": "completed"
    },
    "tags": []
   },
   "outputs": [
    {
     "data": {
      "image/png": "[encoded data removed]",
      "text/plain": [
       "<Figure size 1080x360 with 1 Axes>"
      ]
     },
     "metadata": {
      "needs_background": "light"
     },
     "output_type": "display_data"
    }
   ],
   "source": [
    "# for cluster two\n",
    "\n",
    "plt.figure(figsize= (15,5))\n",
    "plt.ylim(0, 1)\n",
    "plt.bar(list(normalized_all_types_scores['two'].keys()), normalized_all_types_scores['two'].values(), color=['darkred', 'olive', 'darkorange', 'turquoise', 'indigo'])\n",
    "plt.show()"
   ]
  },
  {
   "cell_type": "code",
   "execution_count": 23,
   "metadata": {
    "execution": {
     "iopub.execute_input": "2021-02-17T14:01:40.939519Z",
     "iopub.status.busy": "2021-02-17T14:01:40.902754Z",
     "iopub.status.idle": "2021-02-17T14:01:41.056285Z",
     "shell.execute_reply": "2021-02-17T14:01:41.055480Z"
    },
    "papermill": {
     "duration": 0.225174,
     "end_time": "2021-02-17T14:01:41.056475",
     "exception": false,
     "start_time": "2021-02-17T14:01:40.831301",
     "status": "completed"
    },
    "tags": []
   },
   "outputs": [
    {
     "data": {
      "image/png": "[encoded data removed]",
      "text/plain": [
       "<Figure size 1080x360 with 1 Axes>"
      ]
     },
     "metadata": {
      "needs_background": "light"
     },
     "output_type": "display_data"
    }
   ],
   "source": [
    "# for cluster three\n",
    "\n",
    "plt.figure(figsize= (15,5))\n",
    "plt.ylim(0, 1)\n",
    "plt.bar(list(normalized_all_types_scores['three'].keys()), normalized_all_types_scores['three'].values(), color=['darkred', 'olive', 'darkorange', 'turquoise', 'indigo'])\n",
    "plt.show()"
   ]
  },
  {
   "cell_type": "code",
   "execution_count": 24,
   "metadata": {
    "execution": {
     "iopub.execute_input": "2021-02-17T14:01:41.184024Z",
     "iopub.status.busy": "2021-02-17T14:01:41.182534Z",
     "iopub.status.idle": "2021-02-17T14:01:41.316609Z",
     "shell.execute_reply": "2021-02-17T14:01:41.315584Z"
    },
    "papermill": {
     "duration": 0.209712,
     "end_time": "2021-02-17T14:01:41.316800",
     "exception": false,
     "start_time": "2021-02-17T14:01:41.107088",
     "status": "completed"
    },
    "tags": []
   },
   "outputs": [
    {
     "data": {
      "image/png": "[encoded data removed]",
      "text/plain": [
       "<Figure size 1080x360 with 1 Axes>"
      ]
     },
     "metadata": {
      "needs_background": "light"
     },
     "output_type": "display_data"
    }
   ],
   "source": [
    "# for cluster four\n",
    "\n",
    "plt.figure(figsize= (15,5))\n",
    "plt.ylim(0, 1)\n",
    "plt.bar(list(normalized_all_types_scores['four'].keys()), normalized_all_types_scores['four'].values(), color=['darkred', 'olive', 'darkorange', 'turquoise', 'indigo'])\n",
    "plt.show()"
   ]
  },
  {
   "cell_type": "code",
   "execution_count": 25,
   "metadata": {
    "execution": {
     "iopub.execute_input": "2021-02-17T14:01:41.447227Z",
     "iopub.status.busy": "2021-02-17T14:01:41.446140Z",
     "iopub.status.idle": "2021-02-17T14:01:41.582351Z",
     "shell.execute_reply": "2021-02-17T14:01:41.581262Z"
    },
    "papermill": {
     "duration": 0.214762,
     "end_time": "2021-02-17T14:01:41.582980",
     "exception": false,
     "start_time": "2021-02-17T14:01:41.368218",
     "status": "completed"
    },
    "tags": []
   },
   "outputs": [
    {
     "data": {
      "image/png": "[encoded data removed]",
      "text/plain": [
       "<Figure size 1080x360 with 1 Axes>"
      ]
     },
     "metadata": {
      "needs_background": "light"
     },
     "output_type": "display_data"
    }
   ],
   "source": [
    "# for cluster five\n",
    "\n",
    "plt.figure(figsize= (15,5))\n",
    "plt.ylim(0, 1)\n",
    "plt.bar(list(normalized_all_types_scores['five'].keys()), normalized_all_types_scores['five'].values(), color=['darkred', 'olive', 'darkorange', 'turquoise', 'indigo'])\n",
    "plt.show()"
   ]
  },
  {
   "cell_type": "code",
   "execution_count": 26,
   "metadata": {
    "execution": {
     "iopub.execute_input": "2021-02-17T14:01:41.725139Z",
     "iopub.status.busy": "2021-02-17T14:01:41.718488Z",
     "iopub.status.idle": "2021-02-17T14:01:41.854400Z",
     "shell.execute_reply": "2021-02-17T14:01:41.853523Z"
    },
    "papermill": {
     "duration": 0.215368,
     "end_time": "2021-02-17T14:01:41.854601",
     "exception": false,
     "start_time": "2021-02-17T14:01:41.639233",
     "status": "completed"
    },
    "tags": []
   },
   "outputs": [
    {
     "data": {
      "image/png": "[encoded data removed]",
      "text/plain": [
       "<Figure size 1080x360 with 1 Axes>"
      ]
     },
     "metadata": {
      "needs_background": "light"
     },
     "output_type": "display_data"
    }
   ],
   "source": [
    "# for cluster six\n",
    "\n",
    "plt.figure(figsize= (15,5))\n",
    "plt.ylim(0, 1)\n",
    "plt.bar(list(normalized_all_types_scores['six'].keys()), normalized_all_types_scores['six'].values(), color=['darkred', 'olive', 'darkorange', 'turquoise', 'indigo'])\n",
    "plt.show()"
   ]
  },
  {
   "cell_type": "code",
   "execution_count": 27,
   "metadata": {
    "execution": {
     "iopub.execute_input": "2021-02-17T14:01:41.988353Z",
     "iopub.status.busy": "2021-02-17T14:01:41.983802Z",
     "iopub.status.idle": "2021-02-17T14:01:42.123254Z",
     "shell.execute_reply": "2021-02-17T14:01:42.122598Z"
    },
    "papermill": {
     "duration": 0.215038,
     "end_time": "2021-02-17T14:01:42.123396",
     "exception": false,
     "start_time": "2021-02-17T14:01:41.908358",
     "status": "completed"
    },
    "tags": []
   },
   "outputs": [
    {
     "data": {
      "image/png": "[encoded data removed]",
      "text/plain": [
       "<Figure size 1080x360 with 1 Axes>"
      ]
     },
     "metadata": {
      "needs_background": "light"
     },
     "output_type": "display_data"
    }
   ],
   "source": [
    "# for cluster seven\n",
    "\n",
    "plt.figure(figsize= (15,5))\n",
    "plt.ylim(0, 1)\n",
    "plt.bar(list(normalized_all_types_scores['seven'].keys()), normalized_all_types_scores['seven'].values(), color=['darkred', 'olive', 'darkorange', 'turquoise', 'indigo'])\n",
    "plt.show()"
   ]
  },
  {
   "cell_type": "code",
   "execution_count": 28,
   "metadata": {
    "execution": {
     "iopub.execute_input": "2021-02-17T14:01:42.224187Z",
     "iopub.status.busy": "2021-02-17T14:01:42.214594Z",
     "iopub.status.idle": "2021-02-17T14:01:42.360842Z",
     "shell.execute_reply": "2021-02-17T14:01:42.360004Z"
    },
    "papermill": {
     "duration": 0.201309,
     "end_time": "2021-02-17T14:01:42.361029",
     "exception": false,
     "start_time": "2021-02-17T14:01:42.159720",
     "status": "completed"
    },
    "tags": []
   },
   "outputs": [
    {
     "data": {
      "image/png": "[encoded data removed]",
      "text/plain": [
       "<Figure size 1080x360 with 1 Axes>"
      ]
     },
     "metadata": {
      "needs_background": "light"
     },
     "output_type": "display_data"
    }
   ],
   "source": [
    "# for cluster eight\n",
    "\n",
    "plt.figure(figsize= (15,5))\n",
    "plt.ylim(0, 1)\n",
    "plt.bar(list(normalized_all_types_scores['eight'].keys()), normalized_all_types_scores['eight'].values(), color=['darkred', 'olive', 'darkorange', 'turquoise', 'indigo'])\n",
    "plt.show()"
   ]
  },
  {
   "cell_type": "code",
   "execution_count": 29,
   "metadata": {
    "execution": {
     "iopub.execute_input": "2021-02-17T14:01:42.481510Z",
     "iopub.status.busy": "2021-02-17T14:01:42.477962Z",
     "iopub.status.idle": "2021-02-17T14:01:42.636379Z",
     "shell.execute_reply": "2021-02-17T14:01:42.635796Z"
    },
    "papermill": {
     "duration": 0.238867,
     "end_time": "2021-02-17T14:01:42.636540",
     "exception": false,
     "start_time": "2021-02-17T14:01:42.397673",
     "status": "completed"
    },
    "tags": []
   },
   "outputs": [
    {
     "data": {
      "image/png": "[encoded data removed]",
      "text/plain": [
       "<Figure size 1080x360 with 1 Axes>"
      ]
     },
     "metadata": {
      "needs_background": "light"
     },
     "output_type": "display_data"
    }
   ],
   "source": [
    "# for cluster nine\n",
    "\n",
    "plt.figure(figsize= (15,5))\n",
    "plt.ylim(0, 1)\n",
    "plt.bar(list(normalized_all_types_scores['nine'].keys()), normalized_all_types_scores['nine'].values(), color=['darkred', 'olive', 'darkorange', 'turquoise', 'indigo'])\n",
    "plt.show()"
   ]
  },
  {
   "cell_type": "code",
   "execution_count": 30,
   "metadata": {
    "execution": {
     "iopub.execute_input": "2021-02-17T14:01:42.766007Z",
     "iopub.status.busy": "2021-02-17T14:01:42.756982Z",
     "iopub.status.idle": "2021-02-17T14:01:42.920204Z",
     "shell.execute_reply": "2021-02-17T14:01:42.919573Z"
    },
    "papermill": {
     "duration": 0.245374,
     "end_time": "2021-02-17T14:01:42.920353",
     "exception": false,
     "start_time": "2021-02-17T14:01:42.674979",
     "status": "completed"
    },
    "tags": []
   },
   "outputs": [
    {
     "data": {
      "image/png": "[encoded data removed]",
      "text/plain": [
       "<Figure size 1080x360 with 1 Axes>"
      ]
     },
     "metadata": {
      "needs_background": "light"
     },
     "output_type": "display_data"
    }
   ],
   "source": [
    "# for cluster ten\n",
    "\n",
    "plt.figure(figsize= (15,5))\n",
    "plt.ylim(0, 1)\n",
    "plt.bar(list(normalized_all_types_scores['ten'].keys()), normalized_all_types_scores['ten'].values(), color=['darkred', 'olive', 'darkorange', 'turquoise', 'indigo'])\n",
    "plt.show()"
   ]
  },
  {
   "cell_type": "markdown",
   "metadata": {
    "papermill": {
     "duration": 0.03999,
     "end_time": "2021-02-17T14:01:43.003209",
     "exception": false,
     "start_time": "2021-02-17T14:01:42.963219",
     "status": "completed"
    },
    "tags": []
   },
   "source": [
    "**Thank You...**"
   ]
  }
 ],
 "metadata": {
  "kernelspec": {
   "display_name": "Python 3",
   "language": "python",
   "name": "python3"
  },
  "language_info": {
   "codemirror_mode": {
    "name": "ipython",
    "version": 3
   },
   "file_extension": ".py",
   "mimetype": "text/x-python",
   "name": "python",
   "nbconvert_exporter": "python",
   "pygments_lexer": "ipython3",
   "version": "3.7.9"
  },
  "papermill": {
   "default_parameters": {},
   "duration": 38.791678,
   "end_time": "2021-02-17T14:01:44.057657",
   "environment_variables": {},
   "exception": null,
   "input_path": "__notebook__.ipynb",
   "output_path": "__notebook__.ipynb",
   "parameters": {},
   "start_time": "2021-02-17T14:01:05.265979",
   "version": "2.2.2"
  }
 },
 "nbformat": 4,
 "nbformat_minor": 4
}
